{
 "cells": [
  {
   "cell_type": "markdown",
   "id": "fdd9fc3c-9a06-4f9e-ac6c-0ae5bb0ab39a",
   "metadata": {},
   "source": [
    "## Data Cleaning\n",
    "\n",
    "Data cleaning involves detecting and correcting (or removing) errors, inconsistencies, and unwanted artifacts in a dataset. Clean data is critical for accurate and reliable analysis. In this module, we’ll focus on methods to handle outliers, duplicates, and text inconsistencies.\n",
    "\n",
    "In this module, we will cover:\n",
    "\n",
    "- Handling outliers,\n",
    "- Removing duplicates,\n",
    "- Handling inconsistent and incorrect data,\n",
    "- Working with text data,\n",
    "- Normalizing and transforming data.\n",
    "\n",
    "## Handling Outliers\n",
    "\n",
    "Outliers are data points that significantly deviate from the rest of the dataset. They can be caused by data entry errors, anomalies, or genuine variability. It’s important to handle outliers appropriately, as they can skew results and affect the performance of models.\n",
    "\n",
    "## Detecting Outliers with Box Plots\n",
    "\n",
    "As discussed earlier, box plots are effective for detecting outliers. Points that fall outside 1.5 times the interquartile range (IQR) are considered outliers.\n"
   ]
  },
  {
   "cell_type": "code",
   "execution_count": 4,
   "id": "32b71153-817c-4864-9d4e-d5ccedd34813",
   "metadata": {},
   "outputs": [],
   "source": [
    "import seaborn as sns\n",
    "import pandas as pd\n",
    "from scipy import stats"
   ]
  },
  {
   "cell_type": "code",
   "execution_count": 17,
   "id": "4e907da6-4df7-4570-a7f2-770f3ec8686f",
   "metadata": {},
   "outputs": [],
   "source": [
    "# sample data farame\n",
    "\n",
    "data = {'SalesAmount': [200, 150, 400, 300, 250, 350, 450, 500, 1000]}\n",
    "df = pd.DataFrame(data)"
   ]
  },
  {
   "cell_type": "code",
   "execution_count": 18,
   "id": "e93036fe-3e67-4e7e-9819-c2aea43a6cec",
   "metadata": {},
   "outputs": [
    {
     "data": {
      "text/plain": [
       "<Axes: xlabel='SalesAmount'>"
      ]
     },
     "execution_count": 18,
     "metadata": {},
     "output_type": "execute_result"
    },
    {
     "data": {
      "image/png": "[encoded data removed]",
      "text/plain": [
       "<Figure size 640x480 with 1 Axes>"
      ]
     },
     "metadata": {},
     "output_type": "display_data"
    }
   ],
   "source": [
    "sns.boxenplot(x=df['SalesAmount'])"
   ]
  },
  {
   "cell_type": "markdown",
   "id": "fad1f2e0-e447-4240-b8e8-835f7661a913",
   "metadata": {},
   "source": [
    "## Detecting Outliers with Z-Scores\n",
    "\n",
    "A Z-score represents how many standard deviations a data point is from the mean. A Z-score greater than 3 or less than -3 typically indicates an outlier."
   ]
  },
  {
   "cell_type": "code",
   "execution_count": 19,
   "id": "38efe8a2-48d7-49e0-b893-1ae1105db7f6",
   "metadata": {},
   "outputs": [],
   "source": [
    "#claculate Z-Score\n",
    "df['Z_Score'] = stats.zscore(df['SalesAmount'])"
   ]
  },
  {
   "cell_type": "code",
   "execution_count": 23,
   "id": "b5fd18dc-3a29-482b-83c9-4c56ec2802ec",
   "metadata": {},
   "outputs": [
    {
     "data": {
      "text/html": [
       "<div>\n",
       "<style scoped>\n",
       "    .dataframe tbody tr th:only-of-type {\n",
       "        vertical-align: middle;\n",
       "    }\n",
       "\n",
       "    .dataframe tbody tr th {\n",
       "        vertical-align: top;\n",
       "    }\n",
       "\n",
       "    .dataframe thead th {\n",
       "        text-align: right;\n",
       "    }\n",
       "</style>\n",
       "<table border=\"1\" class=\"dataframe\">\n",
       "  <thead>\n",
       "    <tr style=\"text-align: right;\">\n",
       "      <th></th>\n",
       "      <th>SalesAmount</th>\n",
       "      <th>Z_Score</th>\n",
       "    </tr>\n",
       "  </thead>\n",
       "  <tbody>\n",
       "  </tbody>\n",
       "</table>\n",
       "</div>"
      ],
      "text/plain": [
       "Empty DataFrame\n",
       "Columns: [SalesAmount, Z_Score]\n",
       "Index: []"
      ]
     },
     "execution_count": 23,
     "metadata": {},
     "output_type": "execute_result"
    }
   ],
   "source": [
    "# filter out outliers (Z-score >3 or < -3)\n",
    "df_outliers = df[(df['Z_Score'] > 3) | (df['Z_Score'] < -3)]\n",
    "df_outliers"
   ]
  },
  {
   "cell_type": "code",
   "execution_count": 21,
   "id": "06f42dd2-8076-4539-9fb6-990259ab9c85",
   "metadata": {},
   "outputs": [],
   "source": [
    "# Remove outliers from the dataset\n",
    "df_cleaned = df[(df['Z_Score'] <= 3) & (df['Z_Score'] >= -3)]"
   ]
  },
  {
   "cell_type": "code",
   "execution_count": 22,
   "id": "a4c4f523-5cf3-4d57-93ba-d47136224f76",
   "metadata": {},
   "outputs": [
    {
     "data": {
      "text/html": [
       "<div>\n",
       "<style scoped>\n",
       "    .dataframe tbody tr th:only-of-type {\n",
       "        vertical-align: middle;\n",
       "    }\n",
       "\n",
       "    .dataframe tbody tr th {\n",
       "        vertical-align: top;\n",
       "    }\n",
       "\n",
       "    .dataframe thead th {\n",
       "        text-align: right;\n",
       "    }\n",
       "</style>\n",
       "<table border=\"1\" class=\"dataframe\">\n",
       "  <thead>\n",
       "    <tr style=\"text-align: right;\">\n",
       "      <th></th>\n",
       "      <th>SalesAmount</th>\n",
       "      <th>Z_Score</th>\n",
       "    </tr>\n",
       "  </thead>\n",
       "  <tbody>\n",
       "    <tr>\n",
       "      <th>0</th>\n",
       "      <td>200</td>\n",
       "      <td>-0.840168</td>\n",
       "    </tr>\n",
       "    <tr>\n",
       "      <th>1</th>\n",
       "      <td>150</td>\n",
       "      <td>-1.050210</td>\n",
       "    </tr>\n",
       "    <tr>\n",
       "      <th>2</th>\n",
       "      <td>400</td>\n",
       "      <td>0.000000</td>\n",
       "    </tr>\n",
       "    <tr>\n",
       "      <th>3</th>\n",
       "      <td>300</td>\n",
       "      <td>-0.420084</td>\n",
       "    </tr>\n",
       "    <tr>\n",
       "      <th>4</th>\n",
       "      <td>250</td>\n",
       "      <td>-0.630126</td>\n",
       "    </tr>\n",
       "    <tr>\n",
       "      <th>5</th>\n",
       "      <td>350</td>\n",
       "      <td>-0.210042</td>\n",
       "    </tr>\n",
       "    <tr>\n",
       "      <th>6</th>\n",
       "      <td>450</td>\n",
       "      <td>0.210042</td>\n",
       "    </tr>\n",
       "    <tr>\n",
       "      <th>7</th>\n",
       "      <td>500</td>\n",
       "      <td>0.420084</td>\n",
       "    </tr>\n",
       "    <tr>\n",
       "      <th>8</th>\n",
       "      <td>1000</td>\n",
       "      <td>2.520504</td>\n",
       "    </tr>\n",
       "  </tbody>\n",
       "</table>\n",
       "</div>"
      ],
      "text/plain": [
       "   SalesAmount   Z_Score\n",
       "0          200 -0.840168\n",
       "1          150 -1.050210\n",
       "2          400  0.000000\n",
       "3          300 -0.420084\n",
       "4          250 -0.630126\n",
       "5          350 -0.210042\n",
       "6          450  0.210042\n",
       "7          500  0.420084\n",
       "8         1000  2.520504"
      ]
     },
     "execution_count": 22,
     "metadata": {},
     "output_type": "execute_result"
    }
   ],
   "source": [
    "df_cleaned"
   ]
  },
  {
   "cell_type": "code",
   "execution_count": 24,
   "id": "4750714e-4142-4f10-bc0b-97976249a1fa",
   "metadata": {},
   "outputs": [],
   "source": [
    "# Cap the values at 99th percentile\n",
    "threshold = df['SalesAmount'].quantile(0.99)\n",
    "df['SalesAmount'] = df['SalesAmount'].apply(lambda x: min(x, threshold))"
   ]
  },
  {
   "cell_type": "code",
   "execution_count": 25,
   "id": "ea180213-125d-416c-bea1-3ea72dfaeb5c",
   "metadata": {},
   "outputs": [
    {
     "data": {
      "text/html": [
       "<div>\n",
       "<style scoped>\n",
       "    .dataframe tbody tr th:only-of-type {\n",
       "        vertical-align: middle;\n",
       "    }\n",
       "\n",
       "    .dataframe tbody tr th {\n",
       "        vertical-align: top;\n",
       "    }\n",
       "\n",
       "    .dataframe thead th {\n",
       "        text-align: right;\n",
       "    }\n",
       "</style>\n",
       "<table border=\"1\" class=\"dataframe\">\n",
       "  <thead>\n",
       "    <tr style=\"text-align: right;\">\n",
       "      <th></th>\n",
       "      <th>SalesAmount</th>\n",
       "      <th>Z_Score</th>\n",
       "    </tr>\n",
       "  </thead>\n",
       "  <tbody>\n",
       "    <tr>\n",
       "      <th>0</th>\n",
       "      <td>200.0</td>\n",
       "      <td>-0.840168</td>\n",
       "    </tr>\n",
       "    <tr>\n",
       "      <th>1</th>\n",
       "      <td>150.0</td>\n",
       "      <td>-1.050210</td>\n",
       "    </tr>\n",
       "    <tr>\n",
       "      <th>2</th>\n",
       "      <td>400.0</td>\n",
       "      <td>0.000000</td>\n",
       "    </tr>\n",
       "    <tr>\n",
       "      <th>3</th>\n",
       "      <td>300.0</td>\n",
       "      <td>-0.420084</td>\n",
       "    </tr>\n",
       "    <tr>\n",
       "      <th>4</th>\n",
       "      <td>250.0</td>\n",
       "      <td>-0.630126</td>\n",
       "    </tr>\n",
       "    <tr>\n",
       "      <th>5</th>\n",
       "      <td>350.0</td>\n",
       "      <td>-0.210042</td>\n",
       "    </tr>\n",
       "    <tr>\n",
       "      <th>6</th>\n",
       "      <td>450.0</td>\n",
       "      <td>0.210042</td>\n",
       "    </tr>\n",
       "    <tr>\n",
       "      <th>7</th>\n",
       "      <td>500.0</td>\n",
       "      <td>0.420084</td>\n",
       "    </tr>\n",
       "    <tr>\n",
       "      <th>8</th>\n",
       "      <td>960.0</td>\n",
       "      <td>2.520504</td>\n",
       "    </tr>\n",
       "  </tbody>\n",
       "</table>\n",
       "</div>"
      ],
      "text/plain": [
       "   SalesAmount   Z_Score\n",
       "0        200.0 -0.840168\n",
       "1        150.0 -1.050210\n",
       "2        400.0  0.000000\n",
       "3        300.0 -0.420084\n",
       "4        250.0 -0.630126\n",
       "5        350.0 -0.210042\n",
       "6        450.0  0.210042\n",
       "7        500.0  0.420084\n",
       "8        960.0  2.520504"
      ]
     },
     "execution_count": 25,
     "metadata": {},
     "output_type": "execute_result"
    }
   ],
   "source": [
    "df"
   ]
  },
  {
   "cell_type": "markdown",
   "id": "a1a16267-32a2-40d5-a815-e3e21b93653a",
   "metadata": {},
   "source": [
    "## Removing Duplicates\n",
    "\n",
    "Duplicate data is another common issue that can lead to inaccurate analysis. Pandas provides simple methods for detecting and removing duplicates.\n",
    "\n",
    "#### Detecting Duplicates\n",
    "\n",
    "You can use the `duplicated()` function to check for duplicates in the DataFrame. It returns `True` for rows that are duplicates of previous rows."
   ]
  },
  {
   "cell_type": "code",
   "execution_count": 26,
   "id": "fbf01d53-1974-4cef-ba80-9cc790a25c2e",
   "metadata": {},
   "outputs": [],
   "source": [
    "# samlple data with duplicate \n",
    "data = {\n",
    "    'ProductID': [101, 102, 103, 101, 104, 102],\n",
    "    'SalesAmount':  [200, 150, 400, 200, 300, 150]\n",
    "}\n",
    "\n",
    "df = pd.DataFrame(data)"
   ]
  },
  {
   "cell_type": "code",
   "execution_count": 28,
   "id": "b26360e5-e90c-464a-9ef8-0bdfc2364ba6",
   "metadata": {},
   "outputs": [
    {
     "data": {
      "text/html": [
       "<div>\n",
       "<style scoped>\n",
       "    .dataframe tbody tr th:only-of-type {\n",
       "        vertical-align: middle;\n",
       "    }\n",
       "\n",
       "    .dataframe tbody tr th {\n",
       "        vertical-align: top;\n",
       "    }\n",
       "\n",
       "    .dataframe thead th {\n",
       "        text-align: right;\n",
       "    }\n",
       "</style>\n",
       "<table border=\"1\" class=\"dataframe\">\n",
       "  <thead>\n",
       "    <tr style=\"text-align: right;\">\n",
       "      <th></th>\n",
       "      <th>ProductID</th>\n",
       "      <th>SalesAmount</th>\n",
       "    </tr>\n",
       "  </thead>\n",
       "  <tbody>\n",
       "    <tr>\n",
       "      <th>0</th>\n",
       "      <td>101</td>\n",
       "      <td>200</td>\n",
       "    </tr>\n",
       "    <tr>\n",
       "      <th>1</th>\n",
       "      <td>102</td>\n",
       "      <td>150</td>\n",
       "    </tr>\n",
       "    <tr>\n",
       "      <th>2</th>\n",
       "      <td>103</td>\n",
       "      <td>400</td>\n",
       "    </tr>\n",
       "    <tr>\n",
       "      <th>3</th>\n",
       "      <td>101</td>\n",
       "      <td>200</td>\n",
       "    </tr>\n",
       "    <tr>\n",
       "      <th>4</th>\n",
       "      <td>104</td>\n",
       "      <td>300</td>\n",
       "    </tr>\n",
       "    <tr>\n",
       "      <th>5</th>\n",
       "      <td>102</td>\n",
       "      <td>150</td>\n",
       "    </tr>\n",
       "  </tbody>\n",
       "</table>\n",
       "</div>"
      ],
      "text/plain": [
       "   ProductID  SalesAmount\n",
       "0        101          200\n",
       "1        102          150\n",
       "2        103          400\n",
       "3        101          200\n",
       "4        104          300\n",
       "5        102          150"
      ]
     },
     "execution_count": 28,
     "metadata": {},
     "output_type": "execute_result"
    }
   ],
   "source": [
    "df"
   ]
  },
  {
   "cell_type": "code",
   "execution_count": 29,
   "id": "a5cd8d51-6c87-4016-ae7c-44fc1aab61f4",
   "metadata": {},
   "outputs": [
    {
     "name": "stdout",
     "output_type": "stream",
     "text": [
      "0    False\n",
      "1    False\n",
      "2    False\n",
      "3     True\n",
      "4    False\n",
      "5     True\n",
      "dtype: bool\n"
     ]
    }
   ],
   "source": [
    "# detect duplictae\n",
    "duplicated = df.duplicated()\n",
    "print(duplicated)"
   ]
  },
  {
   "cell_type": "markdown",
   "id": "c5553c72-095f-439d-a5d6-79434a90bb97",
   "metadata": {},
   "source": [
    "## Removing duplicates"
   ]
  },
  {
   "cell_type": "code",
   "execution_count": 31,
   "id": "f9949f6c-8db1-487a-9e79-a86c3118e0f3",
   "metadata": {},
   "outputs": [],
   "source": [
    "df_no_duplicate = df.drop_duplicates()"
   ]
  },
  {
   "cell_type": "code",
   "execution_count": 32,
   "id": "da765f26-b11b-451e-9a34-291880601719",
   "metadata": {},
   "outputs": [
    {
     "name": "stdout",
     "output_type": "stream",
     "text": [
      "   ProductID  SalesAmount\n",
      "0        101          200\n",
      "1        102          150\n",
      "2        103          400\n",
      "4        104          300\n"
     ]
    }
   ],
   "source": [
    "print(df_no_duplicate)"
   ]
  },
  {
   "cell_type": "code",
   "execution_count": 33,
   "id": "39cdb3e9-fc90-481f-9bc5-c4a0c1660ac2",
   "metadata": {},
   "outputs": [],
   "source": [
    "\n",
    "# Remove duplicates based on 'ProductID' column\n",
    "df_no_duplicates = df.drop_duplicates(subset=['ProductID'])"
   ]
  },
  {
   "cell_type": "code",
   "execution_count": 34,
   "id": "3ece8279-4ec1-4b8a-9d28-9b66b0821ca9",
   "metadata": {},
   "outputs": [
    {
     "name": "stdout",
     "output_type": "stream",
     "text": [
      "   ProductID  SalesAmount\n",
      "0        101          200\n",
      "1        102          150\n",
      "2        103          400\n",
      "4        104          300\n"
     ]
    }
   ],
   "source": [
    "print(df_no_duplicate)"
   ]
  },
  {
   "cell_type": "markdown",
   "id": "d96fc9d7-f418-48d8-8c96-b6493bd6d212",
   "metadata": {},
   "source": [
    "## Handling Inconsistent and Incorrect Data\n",
    "\n",
    "Inconsistent and incorrect data includes misspelled categories, wrong data types, and incorrect formats. These issues need to be corrected before analysis.\n",
    "\n",
    "#### Correcting Data Types\n",
    "\n",
    "It’s essential that columns have the correct data types. For example, dates should be in datetime format, and numerical columns should not be stored as strings."
   ]
  },
  {
   "cell_type": "code",
   "execution_count": 35,
   "id": "48191eeb-ad53-46b5-ac59-e48d83ca2e16",
   "metadata": {},
   "outputs": [],
   "source": [
    "# sampe DataFrame with incrrect data types \n",
    "data = {'ProductID': ['101', '102', '103'], 'Date': ['2024-01-01', '2024-02-01', '2024-03-01']}\n",
    "df = pd.DataFrame(data)"
   ]
  },
  {
   "cell_type": "code",
   "execution_count": 36,
   "id": "291ce62c-9c4d-4570-a814-fa8ddb373080",
   "metadata": {},
   "outputs": [],
   "source": [
    "# convert productId into integer\n",
    "\n",
    "df['ProductID'] = df['ProductID'].astype(int)"
   ]
  },
  {
   "cell_type": "code",
   "execution_count": 37,
   "id": "8d421ed5-63ff-4ea7-a36b-cf66825c357e",
   "metadata": {},
   "outputs": [],
   "source": [
    "# cnvert date time int date \n",
    "df['Date'] = pd.to_datetime(df['Date'])"
   ]
  },
  {
   "cell_type": "markdown",
   "id": "539b0531-06a9-474b-a238-25c4934333c9",
   "metadata": {},
   "source": [
    "## Handling Categorical Inconsistencies\n",
    "\n",
    "Sometimes, categories in a column may be misspelled or have inconsistent formatting. You can use string functions to standardize the format."
   ]
  },
  {
   "cell_type": "code",
   "execution_count": 38,
   "id": "a954e513-8872-4e38-80da-3432c6f9923f",
   "metadata": {},
   "outputs": [],
   "source": [
    "data =  {'Region': ['North', 'north', 'SOUTH', 'South']}\n",
    "df = pd.DataFrame(data)"
   ]
  },
  {
   "cell_type": "code",
   "execution_count": 39,
   "id": "e2ba6485-9a40-4061-83c9-5732ea668a40",
   "metadata": {},
   "outputs": [
    {
     "data": {
      "text/html": [
       "<div>\n",
       "<style scoped>\n",
       "    .dataframe tbody tr th:only-of-type {\n",
       "        vertical-align: middle;\n",
       "    }\n",
       "\n",
       "    .dataframe tbody tr th {\n",
       "        vertical-align: top;\n",
       "    }\n",
       "\n",
       "    .dataframe thead th {\n",
       "        text-align: right;\n",
       "    }\n",
       "</style>\n",
       "<table border=\"1\" class=\"dataframe\">\n",
       "  <thead>\n",
       "    <tr style=\"text-align: right;\">\n",
       "      <th></th>\n",
       "      <th>Region</th>\n",
       "    </tr>\n",
       "  </thead>\n",
       "  <tbody>\n",
       "    <tr>\n",
       "      <th>0</th>\n",
       "      <td>North</td>\n",
       "    </tr>\n",
       "    <tr>\n",
       "      <th>1</th>\n",
       "      <td>north</td>\n",
       "    </tr>\n",
       "    <tr>\n",
       "      <th>2</th>\n",
       "      <td>SOUTH</td>\n",
       "    </tr>\n",
       "    <tr>\n",
       "      <th>3</th>\n",
       "      <td>South</td>\n",
       "    </tr>\n",
       "  </tbody>\n",
       "</table>\n",
       "</div>"
      ],
      "text/plain": [
       "  Region\n",
       "0  North\n",
       "1  north\n",
       "2  SOUTH\n",
       "3  South"
      ]
     },
     "execution_count": 39,
     "metadata": {},
     "output_type": "execute_result"
    }
   ],
   "source": [
    "df"
   ]
  },
  {
   "cell_type": "code",
   "execution_count": 40,
   "id": "7ee63db8-7754-4f78-8420-557d63519ec6",
   "metadata": {},
   "outputs": [
    {
     "name": "stdout",
     "output_type": "stream",
     "text": [
      "  Region\n",
      "0  NORTH\n",
      "1  NORTH\n",
      "2  SOUTH\n",
      "3  SOUTH\n"
     ]
    }
   ],
   "source": [
    "# Standardize the Region names to uppercase\n",
    "df['Region'] = df['Region'].str.upper()\n",
    "print(df)"
   ]
  },
  {
   "cell_type": "markdown",
   "id": "1208df45-850d-461f-9059-7c861ed82da8",
   "metadata": {},
   "source": [
    "## Working with Text Data\n",
    "\n",
    "Text data often requires specific cleaning steps to remove unwanted characters, spaces, or patterns.\n",
    "\n",
    "Removing Unwanted Characters\n",
    "\n",
    "You can use string methods to remove unwanted characters from text columns."
   ]
  },
  {
   "cell_type": "code",
   "execution_count": 45,
   "id": "5c5cb337-bc89-4c68-9496-8bd48be5b60d",
   "metadata": {},
   "outputs": [],
   "source": [
    "# Sample DataFrame with messy text\n",
    "data = {'Product': [' Product-A  ', ' Product-B ', 'Product-C']}\n",
    "df = pd.DataFrame(data)"
   ]
  },
  {
   "cell_type": "code",
   "execution_count": 46,
   "id": "5682eaae-2cc1-44fb-94f9-7d20c13d69d9",
   "metadata": {},
   "outputs": [
    {
     "data": {
      "text/html": [
       "<div>\n",
       "<style scoped>\n",
       "    .dataframe tbody tr th:only-of-type {\n",
       "        vertical-align: middle;\n",
       "    }\n",
       "\n",
       "    .dataframe tbody tr th {\n",
       "        vertical-align: top;\n",
       "    }\n",
       "\n",
       "    .dataframe thead th {\n",
       "        text-align: right;\n",
       "    }\n",
       "</style>\n",
       "<table border=\"1\" class=\"dataframe\">\n",
       "  <thead>\n",
       "    <tr style=\"text-align: right;\">\n",
       "      <th></th>\n",
       "      <th>Product</th>\n",
       "    </tr>\n",
       "  </thead>\n",
       "  <tbody>\n",
       "    <tr>\n",
       "      <th>0</th>\n",
       "      <td>Product-A</td>\n",
       "    </tr>\n",
       "    <tr>\n",
       "      <th>1</th>\n",
       "      <td>Product-B</td>\n",
       "    </tr>\n",
       "    <tr>\n",
       "      <th>2</th>\n",
       "      <td>Product-C</td>\n",
       "    </tr>\n",
       "  </tbody>\n",
       "</table>\n",
       "</div>"
      ],
      "text/plain": [
       "        Product\n",
       "0   Product-A  \n",
       "1    Product-B \n",
       "2     Product-C"
      ]
     },
     "execution_count": 46,
     "metadata": {},
     "output_type": "execute_result"
    }
   ],
   "source": [
    "df"
   ]
  },
  {
   "cell_type": "code",
   "execution_count": 47,
   "id": "9c925a5d-0f35-4701-84d9-409610cfc044",
   "metadata": {},
   "outputs": [],
   "source": [
    "# strip eading /trailing spaces \n",
    "df['Product'] = df['Product'].str.strip()"
   ]
  },
  {
   "cell_type": "code",
   "execution_count": 48,
   "id": "75d9757e-297e-43a9-b5a9-62f30bb6bc46",
   "metadata": {},
   "outputs": [
    {
     "data": {
      "text/html": [
       "<div>\n",
       "<style scoped>\n",
       "    .dataframe tbody tr th:only-of-type {\n",
       "        vertical-align: middle;\n",
       "    }\n",
       "\n",
       "    .dataframe tbody tr th {\n",
       "        vertical-align: top;\n",
       "    }\n",
       "\n",
       "    .dataframe thead th {\n",
       "        text-align: right;\n",
       "    }\n",
       "</style>\n",
       "<table border=\"1\" class=\"dataframe\">\n",
       "  <thead>\n",
       "    <tr style=\"text-align: right;\">\n",
       "      <th></th>\n",
       "      <th>Product</th>\n",
       "    </tr>\n",
       "  </thead>\n",
       "  <tbody>\n",
       "    <tr>\n",
       "      <th>0</th>\n",
       "      <td>Product-A</td>\n",
       "    </tr>\n",
       "    <tr>\n",
       "      <th>1</th>\n",
       "      <td>Product-B</td>\n",
       "    </tr>\n",
       "    <tr>\n",
       "      <th>2</th>\n",
       "      <td>Product-C</td>\n",
       "    </tr>\n",
       "  </tbody>\n",
       "</table>\n",
       "</div>"
      ],
      "text/plain": [
       "     Product\n",
       "0  Product-A\n",
       "1  Product-B\n",
       "2  Product-C"
      ]
     },
     "execution_count": 48,
     "metadata": {},
     "output_type": "execute_result"
    }
   ],
   "source": [
    "df"
   ]
  },
  {
   "cell_type": "markdown",
   "id": "2735086b-bbd9-4e10-8c99-5f064cf54f47",
   "metadata": {},
   "source": [
    "## Replacing text patterns"
   ]
  },
  {
   "cell_type": "code",
   "execution_count": 55,
   "id": "ee4774df-7709-4907-9641-2adaad946e81",
   "metadata": {},
   "outputs": [],
   "source": [
    "df['Product'] = df['Product'].str.replace('-', ' ')"
   ]
  },
  {
   "cell_type": "code",
   "execution_count": 56,
   "id": "f6803078-05b1-441f-bdd1-2518208c9356",
   "metadata": {},
   "outputs": [
    {
     "data": {
      "text/html": [
       "<div>\n",
       "<style scoped>\n",
       "    .dataframe tbody tr th:only-of-type {\n",
       "        vertical-align: middle;\n",
       "    }\n",
       "\n",
       "    .dataframe tbody tr th {\n",
       "        vertical-align: top;\n",
       "    }\n",
       "\n",
       "    .dataframe thead th {\n",
       "        text-align: right;\n",
       "    }\n",
       "</style>\n",
       "<table border=\"1\" class=\"dataframe\">\n",
       "  <thead>\n",
       "    <tr style=\"text-align: right;\">\n",
       "      <th></th>\n",
       "      <th>Product</th>\n",
       "    </tr>\n",
       "  </thead>\n",
       "  <tbody>\n",
       "    <tr>\n",
       "      <th>0</th>\n",
       "      <td>Product A</td>\n",
       "    </tr>\n",
       "    <tr>\n",
       "      <th>1</th>\n",
       "      <td>Product B</td>\n",
       "    </tr>\n",
       "    <tr>\n",
       "      <th>2</th>\n",
       "      <td>Product C</td>\n",
       "    </tr>\n",
       "  </tbody>\n",
       "</table>\n",
       "</div>"
      ],
      "text/plain": [
       "     Product\n",
       "0  Product A\n",
       "1  Product B\n",
       "2  Product C"
      ]
     },
     "execution_count": 56,
     "metadata": {},
     "output_type": "execute_result"
    }
   ],
   "source": [
    "df"
   ]
  },
  {
   "cell_type": "markdown",
   "id": "d6be4b25-7896-442c-80f4-1e9963ab5f7c",
   "metadata": {},
   "source": [
    "## Normalizing and Transforming Data\n",
    "\n",
    "For numerical data, normalization or scaling is often necessary before analysis or modeling, especially when the data has different units or ranges.\n",
    "\n",
    "Min-Max Scaling\n",
    "\n",
    "Min-max scaling transforms the data to a range between 0 and 1."
   ]
  },
  {
   "cell_type": "code",
   "execution_count": 59,
   "id": "2f93fc83-4016-4235-bec3-d27d40ec03f4",
   "metadata": {},
   "outputs": [],
   "source": [
    "from sklearn.preprocessing import MinMaxScaler\n"
   ]
  },
  {
   "cell_type": "code",
   "execution_count": 60,
   "id": "e2729486-2a6c-4d6c-9968-9b4c349f5c62",
   "metadata": {},
   "outputs": [
    {
     "ename": "KeyError",
     "evalue": "\"None of [Index(['SalesAmount'], dtype='object')] are in the [columns]\"",
     "output_type": "error",
     "traceback": [
      "\u001b[0;31m---------------------------------------------------------------------------\u001b[0m",
      "\u001b[0;31mKeyError\u001b[0m                                  Traceback (most recent call last)",
      "Cell \u001b[0;32mIn[60], line 3\u001b[0m\n\u001b[1;32m      1\u001b[0m \u001b[38;5;66;03m# Apply log transformation\u001b[39;00m\n\u001b[1;32m      2\u001b[0m scaler \u001b[38;5;241m=\u001b[39m MinMaxScaler()\n\u001b[0;32m----> 3\u001b[0m df[[\u001b[38;5;124m'\u001b[39m\u001b[38;5;124mSalesAmount\u001b[39m\u001b[38;5;124m'\u001b[39m]] \u001b[38;5;241m=\u001b[39m scaler\u001b[38;5;241m.\u001b[39mfit_transform(\u001b[43mdf\u001b[49m\u001b[43m[\u001b[49m\u001b[43m[\u001b[49m\u001b[38;5;124;43m'\u001b[39;49m\u001b[38;5;124;43mSalesAmount\u001b[39;49m\u001b[38;5;124;43m'\u001b[39;49m\u001b[43m]\u001b[49m\u001b[43m]\u001b[49m)\n\u001b[1;32m      4\u001b[0m \u001b[38;5;28mprint\u001b[39m(df)\n",
      "File \u001b[0;32m~/.local/lib/python3.8/site-packages/pandas/core/frame.py:3767\u001b[0m, in \u001b[0;36mDataFrame.__getitem__\u001b[0;34m(self, key)\u001b[0m\n\u001b[1;32m   3765\u001b[0m     \u001b[38;5;28;01mif\u001b[39;00m is_iterator(key):\n\u001b[1;32m   3766\u001b[0m         key \u001b[38;5;241m=\u001b[39m \u001b[38;5;28mlist\u001b[39m(key)\n\u001b[0;32m-> 3767\u001b[0m     indexer \u001b[38;5;241m=\u001b[39m \u001b[38;5;28;43mself\u001b[39;49m\u001b[38;5;241;43m.\u001b[39;49m\u001b[43mcolumns\u001b[49m\u001b[38;5;241;43m.\u001b[39;49m\u001b[43m_get_indexer_strict\u001b[49m\u001b[43m(\u001b[49m\u001b[43mkey\u001b[49m\u001b[43m,\u001b[49m\u001b[43m \u001b[49m\u001b[38;5;124;43m\"\u001b[39;49m\u001b[38;5;124;43mcolumns\u001b[39;49m\u001b[38;5;124;43m\"\u001b[39;49m\u001b[43m)\u001b[49m[\u001b[38;5;241m1\u001b[39m]\n\u001b[1;32m   3769\u001b[0m \u001b[38;5;66;03m# take() does not accept boolean indexers\u001b[39;00m\n\u001b[1;32m   3770\u001b[0m \u001b[38;5;28;01mif\u001b[39;00m \u001b[38;5;28mgetattr\u001b[39m(indexer, \u001b[38;5;124m\"\u001b[39m\u001b[38;5;124mdtype\u001b[39m\u001b[38;5;124m\"\u001b[39m, \u001b[38;5;28;01mNone\u001b[39;00m) \u001b[38;5;241m==\u001b[39m \u001b[38;5;28mbool\u001b[39m:\n",
      "File \u001b[0;32m~/.local/lib/python3.8/site-packages/pandas/core/indexes/base.py:5877\u001b[0m, in \u001b[0;36mIndex._get_indexer_strict\u001b[0;34m(self, key, axis_name)\u001b[0m\n\u001b[1;32m   5874\u001b[0m \u001b[38;5;28;01melse\u001b[39;00m:\n\u001b[1;32m   5875\u001b[0m     keyarr, indexer, new_indexer \u001b[38;5;241m=\u001b[39m \u001b[38;5;28mself\u001b[39m\u001b[38;5;241m.\u001b[39m_reindex_non_unique(keyarr)\n\u001b[0;32m-> 5877\u001b[0m \u001b[38;5;28;43mself\u001b[39;49m\u001b[38;5;241;43m.\u001b[39;49m\u001b[43m_raise_if_missing\u001b[49m\u001b[43m(\u001b[49m\u001b[43mkeyarr\u001b[49m\u001b[43m,\u001b[49m\u001b[43m \u001b[49m\u001b[43mindexer\u001b[49m\u001b[43m,\u001b[49m\u001b[43m \u001b[49m\u001b[43maxis_name\u001b[49m\u001b[43m)\u001b[49m\n\u001b[1;32m   5879\u001b[0m keyarr \u001b[38;5;241m=\u001b[39m \u001b[38;5;28mself\u001b[39m\u001b[38;5;241m.\u001b[39mtake(indexer)\n\u001b[1;32m   5880\u001b[0m \u001b[38;5;28;01mif\u001b[39;00m \u001b[38;5;28misinstance\u001b[39m(key, Index):\n\u001b[1;32m   5881\u001b[0m     \u001b[38;5;66;03m# GH 42790 - Preserve name from an Index\u001b[39;00m\n",
      "File \u001b[0;32m~/.local/lib/python3.8/site-packages/pandas/core/indexes/base.py:5938\u001b[0m, in \u001b[0;36mIndex._raise_if_missing\u001b[0;34m(self, key, indexer, axis_name)\u001b[0m\n\u001b[1;32m   5936\u001b[0m     \u001b[38;5;28;01mif\u001b[39;00m use_interval_msg:\n\u001b[1;32m   5937\u001b[0m         key \u001b[38;5;241m=\u001b[39m \u001b[38;5;28mlist\u001b[39m(key)\n\u001b[0;32m-> 5938\u001b[0m     \u001b[38;5;28;01mraise\u001b[39;00m \u001b[38;5;167;01mKeyError\u001b[39;00m(\u001b[38;5;124mf\u001b[39m\u001b[38;5;124m\"\u001b[39m\u001b[38;5;124mNone of [\u001b[39m\u001b[38;5;132;01m{\u001b[39;00mkey\u001b[38;5;132;01m}\u001b[39;00m\u001b[38;5;124m] are in the [\u001b[39m\u001b[38;5;132;01m{\u001b[39;00maxis_name\u001b[38;5;132;01m}\u001b[39;00m\u001b[38;5;124m]\u001b[39m\u001b[38;5;124m\"\u001b[39m)\n\u001b[1;32m   5940\u001b[0m not_found \u001b[38;5;241m=\u001b[39m \u001b[38;5;28mlist\u001b[39m(ensure_index(key)[missing_mask\u001b[38;5;241m.\u001b[39mnonzero()[\u001b[38;5;241m0\u001b[39m]]\u001b[38;5;241m.\u001b[39munique())\n\u001b[1;32m   5941\u001b[0m \u001b[38;5;28;01mraise\u001b[39;00m \u001b[38;5;167;01mKeyError\u001b[39;00m(\u001b[38;5;124mf\u001b[39m\u001b[38;5;124m\"\u001b[39m\u001b[38;5;132;01m{\u001b[39;00mnot_found\u001b[38;5;132;01m}\u001b[39;00m\u001b[38;5;124m not in index\u001b[39m\u001b[38;5;124m\"\u001b[39m)\n",
      "\u001b[0;31mKeyError\u001b[0m: \"None of [Index(['SalesAmount'], dtype='object')] are in the [columns]\""
     ]
    }
   ],
   "source": [
    "# Apply log transformation\n",
    "scaler = MinMaxScaler()\n",
    "df[['SalesAmount']] = scaler.fit_transform(df[['SalesAmount']])\n",
    "print(df)"
   ]
  },
  {
   "cell_type": "code",
   "execution_count": null,
   "id": "e77c2e18-3bc3-4ece-b79e-42b202723ac1",
   "metadata": {},
   "outputs": [],
   "source": []
  },
  {
   "cell_type": "code",
   "execution_count": null,
   "id": "a6e63e26-e348-4f3c-bd52-5ca6a0cea58b",
   "metadata": {},
   "outputs": [],
   "source": []
  },
  {
   "cell_type": "code",
   "execution_count": null,
   "id": "998609b6-fdac-4e5a-92b2-f0cb3ee5695a",
   "metadata": {},
   "outputs": [],
   "source": []
  }
 ],
 "metadata": {
  "kernelspec": {
   "display_name": "Python 3 (ipykernel)",
   "language": "python",
   "name": "python3"
  },
  "language_info": {
   "codemirror_mode": {
    "name": "ipython",
    "version": 3
   },
   "file_extension": ".py",
   "mimetype": "text/x-python",
   "name": "python",
   "nbconvert_exporter": "python",
   "pygments_lexer": "ipython3",
   "version": "3.8.10"
  }
 },
 "nbformat": 4,
 "nbformat_minor": 5
}
