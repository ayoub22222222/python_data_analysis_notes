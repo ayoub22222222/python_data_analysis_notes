{
 "cells": [
  {
   "cell_type": "markdown",
   "id": "0c309251-473b-493f-a97e-11f58da9a7f4",
   "metadata": {},
   "source": [
    "## Introduction to Numpy\n",
    "NumPy (Numerical Python) is a core library for numerical computing in Python. It provides efficient data structures (primarily arrays) that allow for fast numerical computations. In data analysis, NumPy is widely used for performing mathematical operations on large datasets, and it forms the foundation for many other libraries, including Pandas.\n",
    "\n",
    "### What is a NumPy Array?\n",
    "\n",
    "A NumPy array (or ndarray) is a grid of values, all of the same type, indexed by a tuple of non-negative integers. Arrays can be one-dimensional (like a list), two-dimensional (like a table), or even higher dimensions. NumPy arrays are much faster and more memory-efficient than Python lists, making them ideal for large datasets."
   ]
  },
  {
   "cell_type": "code",
   "execution_count": 1,
   "id": "e28df4c0-2ab4-4680-93c7-c3a132c033a6",
   "metadata": {},
   "outputs": [],
   "source": [
    "import numpy as np"
   ]
  },
  {
   "cell_type": "code",
   "execution_count": 3,
   "id": "68554633-2e8a-4d7f-a2de-7dc38ba3ba77",
   "metadata": {},
   "outputs": [
    {
     "name": "stdout",
     "output_type": "stream",
     "text": [
      "[1 2 3 4 5 6 7 8]\n",
      "[[1 2 3 4]\n",
      " [6 7 8 9]]\n"
     ]
    }
   ],
   "source": [
    "# creating an array\n",
    "arr_1d = np.array([1, 2, 3, 4, 5, 6, 7, 8])\n",
    "# create a 2d array\n",
    "arr_2d = np.array([[1, 2, 3, 4], [6, 7, 8, 9]])\n",
    "print(arr_1d)\n",
    "print(arr_2d)"
   ]
  },
  {
   "cell_type": "markdown",
   "id": "4333ea51-e59e-439d-875a-2b28844c7e57",
   "metadata": {},
   "source": [
    "## Array Operatins\n",
    "NumPy allows you to perform element-wise operations on arrays, which makes it much more efficient than using loops.\n",
    "#### Arethmetic operation"
   ]
  },
  {
   "cell_type": "code",
   "execution_count": 4,
   "id": "1de55aaa-0741-4194-9cf8-794f74d5e0b1",
   "metadata": {},
   "outputs": [
    {
     "name": "stdout",
     "output_type": "stream",
     "text": [
      "[11 12 13 14]\n",
      "[10 20 30 40]\n"
     ]
    }
   ],
   "source": [
    "arr = np.array([1, 2, 3, 4])\n",
    "# add 10 to each element \n",
    "arr_add = arr + 10\n",
    "# mult every elemnt by 10\n",
    "\n",
    "arr_mult = arr * 10\n",
    "\n",
    "print(arr_add)\n",
    "print(arr_mult)"
   ]
  },
  {
   "cell_type": "markdown",
   "id": "8bbd3d69-dbd8-45b6-8b8d-f1a24216ed23",
   "metadata": {},
   "source": [
    "## Mathematical Functions\n",
    "NumPy includes various mathematical functions that operate element-wise on arrays:"
   ]
  },
  {
   "cell_type": "code",
   "execution_count": 5,
   "id": "3de57e5f-9356-4dfe-b21c-daa8bce13ad0",
   "metadata": {},
   "outputs": [
    {
     "name": "stdout",
     "output_type": "stream",
     "text": [
      "[1.         1.41421356 1.73205081 2.        ]\n",
      "[0.         0.69314718 1.09861229 1.38629436]\n"
     ]
    }
   ],
   "source": [
    "# are root of each eement \n",
    "sqrt_arr = np.sqrt(arr)\n",
    "# Natura logaryth fr each element\n",
    "log_arr = np.log(arr)\n",
    "print(sqrt_arr)\n",
    "print(log_arr)"
   ]
  },
  {
   "cell_type": "markdown",
   "id": "5bc09bc9-eacf-4998-95a2-50e31f85d4b2",
   "metadata": {},
   "source": [
    "## Array Slicing and indexing\n",
    "\n",
    "Like Python lists, you can slice and index NumPy arrays to access specific elements or subsets of the array."
   ]
  },
  {
   "cell_type": "code",
   "execution_count": 8,
   "id": "8a611e64-e082-4a84-93e8-19b27abdb62d",
   "metadata": {},
   "outputs": [
    {
     "name": "stdout",
     "output_type": "stream",
     "text": [
      "10\n",
      "[20 30]\n",
      "3\n",
      "[1 2 3]\n",
      "[2 5]\n"
     ]
    }
   ],
   "source": [
    "arr = np.array([10, 20, 30, 40, 50])\n",
    "\n",
    "# access a specific elemnt \n",
    "print(arr[0])\n",
    "print(arr[1:3])\n",
    "# for 2d arrays\n",
    "\n",
    "arr_2d = np.array([[1, 2, 3], [4, 5, 6]])\n",
    "print(arr_2d[0][2])\n",
    "print(arr_2d[0, :])\n",
    "print(arr_2d[:, 1])\n"
   ]
  },
  {
   "cell_type": "markdown",
   "id": "288cd1c0-3855-4eba-9c8d-3ce93e83c603",
   "metadata": {},
   "source": [
    "## BroadCasting\n",
    "\n",
    "NumPy allows arithmetic operations between arrays of different shapes through a process called broadcasting. This is highly useful when you want to perform operations on arrays of different dimensions."
   ]
  },
  {
   "cell_type": "code",
   "execution_count": 9,
   "id": "625665a2-7141-4fed-a2ad-eed96d361a5f",
   "metadata": {},
   "outputs": [
    {
     "name": "stdout",
     "output_type": "stream",
     "text": [
      "[[21 22 23]\n",
      " [31 32 33]\n",
      " [41 42 43]]\n"
     ]
    }
   ],
   "source": [
    "arr_1 = np.array([1, 2, 3])\n",
    "arr_2 = np.array([[20], [30], [40]])\n",
    "\n",
    "# broadcasting addition\n",
    "\n",
    "result = arr_1 + arr_2\n",
    "print(result)"
   ]
  },
  {
   "cell_type": "markdown",
   "id": "72514459-5746-45f8-a8f9-51bb42614dba",
   "metadata": {},
   "source": [
    "## Common Functions and Methods\n",
    "\n",
    "NumPy provides a wide range of useful functions for performing common operations:\n",
    "\n",
    "- `np.mean()`: Calculates the mean of the array.\n",
    "- `np.median()`: Finds the median value.\n",
    "- `np.sum()`: Computes the sum of all elements.\n",
    "- `np.std()`: Calculates the standard deviation."
   ]
  },
  {
   "cell_type": "code",
   "execution_count": 11,
   "id": "9f4a3afc-55b9-4ec8-8b84-5d7a7ab3ef90",
   "metadata": {},
   "outputs": [
    {
     "name": "stdout",
     "output_type": "stream",
     "text": [
      "3.0\n",
      "15\n",
      "5\n"
     ]
    }
   ],
   "source": [
    "arr = np.array([1, 2, 3, 4, 5])\n",
    "\n",
    "# Mean\n",
    "print(np.mean(arr))\n",
    "print(np.sum(arr))\n",
    "print(np.max(arr))"
   ]
  },
  {
   "cell_type": "markdown",
   "id": "8ab51dc1-c993-4fc0-b9ac-73160a6b4b4a",
   "metadata": {},
   "source": [
    "## Reshaping an Array"
   ]
  },
  {
   "cell_type": "code",
   "execution_count": 12,
   "id": "4d1a832e-b56a-42a5-9bfc-05b79b7049f3",
   "metadata": {},
   "outputs": [
    {
     "name": "stdout",
     "output_type": "stream",
     "text": [
      "[1 2 3 4 5 6]\n"
     ]
    }
   ],
   "source": [
    "r_arr = np.array([1, 2, 3, 4, 5, 6])\n",
    "print(r_arr)"
   ]
  },
  {
   "cell_type": "code",
   "execution_count": 15,
   "id": "3178892d-b634-436d-aa6b-2c48ace64226",
   "metadata": {},
   "outputs": [
    {
     "name": "stdout",
     "output_type": "stream",
     "text": [
      "[[1 2]\n",
      " [3 4]\n",
      " [5 6]]\n"
     ]
    }
   ],
   "source": [
    "# reshaping an array\n",
    "\n",
    "arr_reshaped = r_arr.reshape(3, 2)\n",
    "print(arr_reshaped)"
   ]
  },
  {
   "cell_type": "markdown",
   "id": "006cd793-684f-46e1-9127-6cb8b219849f",
   "metadata": {},
   "source": [
    "## Generating Random Numbers\n",
    "\n",
    "NumPy’s random module provides functions for generating random numbers, which are useful in simulations, random sampling, and machine learning."
   ]
  },
  {
   "cell_type": "code",
   "execution_count": 17,
   "id": "a2094427-85a3-48b7-8168-ea9c8223dcd1",
   "metadata": {},
   "outputs": [
    {
     "name": "stdout",
     "output_type": "stream",
     "text": [
      "[[0.492663   0.80557569 0.81709704]\n",
      " [0.76625567 0.00910487 0.70819527]\n",
      " [0.44864311 0.03276999 0.97335369]]\n"
     ]
    }
   ],
   "source": [
    "# generate an array f randm numbers 0 and 1\n",
    "randm_arr = np.random.rand(3, 3)\n",
    "print(randm_arr)"
   ]
  },
  {
   "cell_type": "code",
   "execution_count": 19,
   "id": "fedaab6a-4402-4cff-b704-fbe951f9468e",
   "metadata": {},
   "outputs": [
    {
     "name": "stdout",
     "output_type": "stream",
     "text": [
      "[[8 1 7]\n",
      " [8 3 7]]\n"
     ]
    }
   ],
   "source": [
    "# generate random integers \n",
    "rand_int = np.random.randint(1, 10, size=(2, 3))\n",
    "print(rand_int)"
   ]
  },
  {
   "cell_type": "code",
   "execution_count": null,
   "id": "69cf5bc7-d1a8-407a-bde8-2bec8673adab",
   "metadata": {},
   "outputs": [],
   "source": []
  }
 ],
 "metadata": {
  "kernelspec": {
   "display_name": "Python 3 (ipykernel)",
   "language": "python",
   "name": "python3"
  },
  "language_info": {
   "codemirror_mode": {
    "name": "ipython",
    "version": 3
   },
   "file_extension": ".py",
   "mimetype": "text/x-python",
   "name": "python",
   "nbconvert_exporter": "python",
   "pygments_lexer": "ipython3",
   "version": "3.8.10"
  }
 },
 "nbformat": 4,
 "nbformat_minor": 5
}
