{
 "cells": [
  {
   "cell_type": "markdown",
   "id": "8de86136-0adc-4f49-a722-dc1e7cc74511",
   "metadata": {},
   "source": [
    "## Time Series Data\n",
    "\n",
    "Time series data is common in many industries, including finance, healthcare, and manufacturing. Pandas provides powerful tools for working with time-indexed data, enabling you to manipulate, analyze, and visualize time-dependent patterns efficiently.\n",
    "\n",
    "In this module, we will cover:\n",
    "\n",
    "- Working with datetime objects,\n",
    "- Time-based indexing and slicing,\n",
    "- Resampling and aggregation,\n",
    "- Handling missing time data,\n",
    "- Rolling and expanding windows,\n",
    "- Time shifts and differences."
   ]
  },
  {
   "cell_type": "markdown",
   "id": "54ff82dd-9293-4cb5-b6e6-f3f70dcccb59",
   "metadata": {},
   "source": [
    "## What is a Time Series?\n",
    "\n",
    "A time series is a sequence of data points collected or recorded at successive points in time, often at uniform intervals (such as hourly, daily, monthly, or yearly). Unlike other types of data, time series data has a temporal aspect, meaning that time plays a key role in the analysis. The order of the data points matters, and analyzing how the data changes over time is often a central focus.\n",
    "\n",
    "# Key Characteristics of Time Series Data:\n",
    "#### Temporal Ordering: \n",
    "Time series data is ordered by time, and the sequence in which data points occur is crucial.\n",
    "Frequency: Time series data can be recorded at various intervals, such as:\n",
    "- Hourly: Sensor readings from a machine every hour.\n",
    "- Daily: Stock prices at the end of each trading day.\n",
    "- Monthly: Monthly sales data for a retail store.\n",
    "#### Trend and Seasonality: \n",
    "Time series data often exhibits trends (long-term upward or downward movements) and seasonality (recurring patterns over time).\n",
    "#### Examples of Time Series Data\n",
    "- Stock Market Prices: The closing price of a stock is recorded at the end of each trading day, forming a time series. You could analyze how the price fluctuates daily, weekly, or monthly.\n",
    "\n",
    "Date\tStock Price\n",
    "2024-01-01\t$150\n",
    "2024-01-02\t$152\n",
    "2024-01-03\t$148\n",
    "- Weather Data: Daily temperature readings form a time series. You can analyze temperature trends over days, months, or years.\n",
    "\n",
    "Date\tTemperature (°C)\n",
    "2024-01-01\t5.2\n",
    "2024-01-02\t4.8\n",
    "2024-01-03\t6.0\n",
    "- Sales Data: A retail store’s daily or monthly sales figures are time series data. You could look for trends over time (e.g., sales growing during holiday seasons or dipping during off-seasons).\n",
    "\n",
    "Month\tSales Amount\n",
    "2024-01\t$10,000\n",
    "2024-02\t$9,500\n",
    "2024-03\t$12,000\n",
    "- Website Traffic: A website’s hourly or daily visitors form a time series, allowing analysis of how traffic varies throughout the day or week.\n",
    "\n",
    "Hour\tVisitors\n",
    "09:00 AM\t200\n",
    "10:00 AM\t230\n",
    "11:00 AM\t250\n"
   ]
  },
  {
   "cell_type": "markdown",
   "id": "a57fbad6-e385-4cc4-9a54-ab0e59f4eb1f",
   "metadata": {},
   "source": [
    "## Why is Time Series Data Important?\n",
    "\n",
    "Time series data allows you to analyze patterns over time and make predictions about future values based on past behavior. It’s used in various domains to answer questions like:\n",
    "\n",
    "- `Trends`: Is there a long-term upward or downward trend in stock prices or sales?\n",
    "- `Seasonality`: Are there recurring patterns, such as higher sales during holiday seasons or lower website traffic on weekends?\n",
    "- `Forecasting`: Can we predict the future temperature, sales, or stock prices based on historical data?"
   ]
  },
  {
   "cell_type": "code",
   "execution_count": 1,
   "id": "3da20ef0-0feb-4ee2-be63-b8a20e994ead",
   "metadata": {},
   "outputs": [],
   "source": [
    "import pandas as pd "
   ]
  },
  {
   "cell_type": "code",
   "execution_count": null,
   "id": "6fbfb441-6da8-4264-8abe-e21a7221015a",
   "metadata": {},
   "outputs": [],
   "source": []
  },
  {
   "cell_type": "code",
   "execution_count": 2,
   "id": "299ac6d2-6da5-4de9-9697-39e47d29f325",
   "metadata": {},
   "outputs": [],
   "source": [
    "# Sample data with date strings\n",
    "data = {'Date': ['2024-01-01', '2024-01-02', '2024-01-03'], 'SalesAmount': [200, 150, 300]}\n",
    "df = pd.DataFrame(data)"
   ]
  },
  {
   "cell_type": "code",
   "execution_count": 3,
   "id": "3729d2d3-3654-400f-abc3-0bb53a0b4e54",
   "metadata": {},
   "outputs": [
    {
     "name": "stdout",
     "output_type": "stream",
     "text": [
      "datetime64[ns]\n"
     ]
    }
   ],
   "source": [
    "# convert date cumns into datetime \n",
    "\n",
    "df['Date'] = pd.to_datetime(df['Date'])\n",
    "print(df['Date'].dtypes)"
   ]
  },
  {
   "cell_type": "markdown",
   "id": "fe169ade-756a-4569-a323-a074ac7b421a",
   "metadata": {},
   "source": [
    "## Extracting Date Components"
   ]
  },
  {
   "cell_type": "code",
   "execution_count": 4,
   "id": "a4c2c25c-a6b4-43d8-8352-6de8471135d0",
   "metadata": {},
   "outputs": [
    {
     "data": {
      "text/html": [
       "<div>\n",
       "<style scoped>\n",
       "    .dataframe tbody tr th:only-of-type {\n",
       "        vertical-align: middle;\n",
       "    }\n",
       "\n",
       "    .dataframe tbody tr th {\n",
       "        vertical-align: top;\n",
       "    }\n",
       "\n",
       "    .dataframe thead th {\n",
       "        text-align: right;\n",
       "    }\n",
       "</style>\n",
       "<table border=\"1\" class=\"dataframe\">\n",
       "  <thead>\n",
       "    <tr style=\"text-align: right;\">\n",
       "      <th></th>\n",
       "      <th>Date</th>\n",
       "      <th>SalesAmount</th>\n",
       "    </tr>\n",
       "  </thead>\n",
       "  <tbody>\n",
       "    <tr>\n",
       "      <th>0</th>\n",
       "      <td>2024-01-01</td>\n",
       "      <td>200</td>\n",
       "    </tr>\n",
       "    <tr>\n",
       "      <th>1</th>\n",
       "      <td>2024-01-02</td>\n",
       "      <td>150</td>\n",
       "    </tr>\n",
       "    <tr>\n",
       "      <th>2</th>\n",
       "      <td>2024-01-03</td>\n",
       "      <td>300</td>\n",
       "    </tr>\n",
       "  </tbody>\n",
       "</table>\n",
       "</div>"
      ],
      "text/plain": [
       "        Date  SalesAmount\n",
       "0 2024-01-01          200\n",
       "1 2024-01-02          150\n",
       "2 2024-01-03          300"
      ]
     },
     "execution_count": 4,
     "metadata": {},
     "output_type": "execute_result"
    }
   ],
   "source": [
    "df"
   ]
  },
  {
   "cell_type": "code",
   "execution_count": 5,
   "id": "7e023788-9560-4624-991c-02eea77e0e2b",
   "metadata": {},
   "outputs": [
    {
     "name": "stdout",
     "output_type": "stream",
     "text": [
      "        Date  SalesAmount  Year  Month  Day\n",
      "0 2024-01-01          200  2024      1    1\n",
      "1 2024-01-02          150  2024      1    2\n",
      "2 2024-01-03          300  2024      1    3\n"
     ]
    }
   ],
   "source": [
    "df['Year'] = df['Date'].dt.year\n",
    "df['Month'] = df['Date'].dt.month\n",
    "df['Day'] = df['Date'].dt.day\n",
    "print(df)"
   ]
  },
  {
   "cell_type": "code",
   "execution_count": 6,
   "id": "aeb832f0-e564-478b-8230-98e5a92f5a71",
   "metadata": {},
   "outputs": [
    {
     "name": "stdout",
     "output_type": "stream",
     "text": [
      "<class 'pandas.core.frame.DataFrame'>\n",
      "RangeIndex: 3 entries, 0 to 2\n",
      "Data columns (total 5 columns):\n",
      " #   Column       Non-Null Count  Dtype         \n",
      "---  ------       --------------  -----         \n",
      " 0   Date         3 non-null      datetime64[ns]\n",
      " 1   SalesAmount  3 non-null      int64         \n",
      " 2   Year         3 non-null      int32         \n",
      " 3   Month        3 non-null      int32         \n",
      " 4   Day          3 non-null      int32         \n",
      "dtypes: datetime64[ns](1), int32(3), int64(1)\n",
      "memory usage: 212.0 bytes\n"
     ]
    }
   ],
   "source": [
    "df.info()"
   ]
  },
  {
   "cell_type": "code",
   "execution_count": 7,
   "id": "3299e5f6-a9e9-45c7-8346-674c45d705e6",
   "metadata": {},
   "outputs": [
    {
     "name": "stdout",
     "output_type": "stream",
     "text": [
      "<class 'pandas.core.series.Series'>\n"
     ]
    }
   ],
   "source": [
    "print(type(df['Date'].dt.year))"
   ]
  },
  {
   "cell_type": "markdown",
   "id": "428c50de-b77a-4fa0-8e41-db360af17894",
   "metadata": {},
   "source": [
    "## Time-Based Indexing and Slicing \n",
    "In time series data, having the date as the index allows for more efficient slicing and querying. You can set a datetime column as the index using set_index()."
   ]
  },
  {
   "cell_type": "code",
   "execution_count": 8,
   "id": "1c7dbdbf-1cdd-4f1b-b559-2e6f513b528c",
   "metadata": {},
   "outputs": [],
   "source": [
    "df.set_index('Date', inplace=True)"
   ]
  },
  {
   "cell_type": "code",
   "execution_count": 9,
   "id": "7fcd41e3-b27c-402f-802d-95175b143294",
   "metadata": {},
   "outputs": [
    {
     "data": {
      "text/html": [
       "<div>\n",
       "<style scoped>\n",
       "    .dataframe tbody tr th:only-of-type {\n",
       "        vertical-align: middle;\n",
       "    }\n",
       "\n",
       "    .dataframe tbody tr th {\n",
       "        vertical-align: top;\n",
       "    }\n",
       "\n",
       "    .dataframe thead th {\n",
       "        text-align: right;\n",
       "    }\n",
       "</style>\n",
       "<table border=\"1\" class=\"dataframe\">\n",
       "  <thead>\n",
       "    <tr style=\"text-align: right;\">\n",
       "      <th></th>\n",
       "      <th>SalesAmount</th>\n",
       "      <th>Year</th>\n",
       "      <th>Month</th>\n",
       "      <th>Day</th>\n",
       "    </tr>\n",
       "    <tr>\n",
       "      <th>Date</th>\n",
       "      <th></th>\n",
       "      <th></th>\n",
       "      <th></th>\n",
       "      <th></th>\n",
       "    </tr>\n",
       "  </thead>\n",
       "  <tbody>\n",
       "    <tr>\n",
       "      <th>2024-01-01</th>\n",
       "      <td>200</td>\n",
       "      <td>2024</td>\n",
       "      <td>1</td>\n",
       "      <td>1</td>\n",
       "    </tr>\n",
       "    <tr>\n",
       "      <th>2024-01-02</th>\n",
       "      <td>150</td>\n",
       "      <td>2024</td>\n",
       "      <td>1</td>\n",
       "      <td>2</td>\n",
       "    </tr>\n",
       "    <tr>\n",
       "      <th>2024-01-03</th>\n",
       "      <td>300</td>\n",
       "      <td>2024</td>\n",
       "      <td>1</td>\n",
       "      <td>3</td>\n",
       "    </tr>\n",
       "  </tbody>\n",
       "</table>\n",
       "</div>"
      ],
      "text/plain": [
       "            SalesAmount  Year  Month  Day\n",
       "Date                                     \n",
       "2024-01-01          200  2024      1    1\n",
       "2024-01-02          150  2024      1    2\n",
       "2024-01-03          300  2024      1    3"
      ]
     },
     "execution_count": 9,
     "metadata": {},
     "output_type": "execute_result"
    }
   ],
   "source": [
    "df"
   ]
  },
  {
   "cell_type": "markdown",
   "id": "6195b4e8-ef16-4a29-a6a3-e96db5cabde9",
   "metadata": {},
   "source": [
    "## Slicing Time Series\n",
    "\n",
    "Once the date is the index, you can slice the DataFrame by specific dates or date ranges."
   ]
  },
  {
   "cell_type": "code",
   "execution_count": 10,
   "id": "d48b689f-06d3-474c-b336-35cdc03eddad",
   "metadata": {},
   "outputs": [
    {
     "name": "stdout",
     "output_type": "stream",
     "text": [
      "SalesAmount     150\n",
      "Year           2024\n",
      "Month             1\n",
      "Day               2\n",
      "Name: 2024-01-02 00:00:00, dtype: int64\n"
     ]
    }
   ],
   "source": [
    "df_slice = df.loc['2024-01-02']\n",
    "print(df_slice)"
   ]
  },
  {
   "cell_type": "code",
   "execution_count": 12,
   "id": "b3cb4d7b-94ee-425d-b7b7-8bc5d0da4410",
   "metadata": {},
   "outputs": [
    {
     "name": "stdout",
     "output_type": "stream",
     "text": [
      "            SalesAmount  Year  Month  Day\n",
      "Date                                     \n",
      "2024-01-01          200  2024      1    1\n",
      "2024-01-02          150  2024      1    2\n",
      "2024-01-03          300  2024      1    3\n"
     ]
    }
   ],
   "source": [
    "df_s = df.loc['2024-01-01': '2024-01-03']\n",
    "print(df_s)"
   ]
  },
  {
   "cell_type": "markdown",
   "id": "086bbf9b-dd1b-4419-8fbf-a7ab15510b71",
   "metadata": {},
   "source": [
    "## Resampling and Aggregation\n",
    "\n",
    "Resampling involves changing the frequency of your time series data. For example, you can aggregate daily data into weekly, monthly, or yearly summaries. Pandas provides the resample() function for this purpose.\n",
    "\n",
    "### Resampling to a Different Frequency\n",
    "\n",
    "You can downsample or upsample time series data to different time frequencies. Common time frequencies include:\n",
    "\n",
    "- `D`: Daily\n",
    "- `W`: Weekly\n",
    "- `M`: Monthly\n",
    "- `Y`: Yearly"
   ]
  },
  {
   "cell_type": "code",
   "execution_count": 19,
   "id": "b556cc82-493c-4748-ac14-b56486237832",
   "metadata": {},
   "outputs": [
    {
     "name": "stdout",
     "output_type": "stream",
     "text": [
      "            SalesAmount    Year  Month  Day\n",
      "Date                                       \n",
      "2024-01-31   216.666667  2024.0    1.0  2.0\n"
     ]
    }
   ],
   "source": [
    "df_resampled = df.resample('M').mean()\n",
    "print(df_resampled)"
   ]
  },
  {
   "cell_type": "markdown",
   "id": "0f855418-689e-4b6c-81c9-92a6bd9a8513",
   "metadata": {},
   "source": [
    "## Handling Missing Time Data\n",
    "\n",
    "Time series data often has missing time periods, which can affect your analysis. You can handle these gaps by either filling the missing values or using interpolation techniques.\n",
    "\n",
    "### Filling Missing Time Periods\n",
    "\n",
    "The `asfreq()` function is used to convert the DataFrame to a specified frequency, filling in any missing time periods with NaN. Assuming that we are using the same dataframe from the previous section:"
   ]
  },
  {
   "cell_type": "code",
   "execution_count": 46,
   "id": "c64bf0fd-cb0f-4578-baf3-9bdf58d03e4e",
   "metadata": {},
   "outputs": [],
   "source": [
    "data = {'Date': ['2024-01-1', '2024-01-02', '2024-01-03'], 'SalesAmount': [200, 150, 300]}\n",
    "df = pd.DataFrame(data)"
   ]
  },
  {
   "cell_type": "code",
   "execution_count": 47,
   "id": "799e94af-75ad-4a57-aad4-585df75951d6",
   "metadata": {},
   "outputs": [],
   "source": [
    "df['Date'] = pd.to_datetime(df['Date'])"
   ]
  },
  {
   "cell_type": "code",
   "execution_count": 48,
   "id": "f00e4bc4-8d17-46d8-a5d5-89adc1ab4d69",
   "metadata": {},
   "outputs": [
    {
     "name": "stdout",
     "output_type": "stream",
     "text": [
      "           Date  SalesAmount\n",
      "1970-01-01  NaT          NaN\n"
     ]
    }
   ],
   "source": [
    "df_filled = df.asfreq('D')\n",
    "print(df_filled)"
   ]
  },
  {
   "cell_type": "markdown",
   "id": "275d01b8-ff3d-4da1-8a55-04c18dfce1ea",
   "metadata": {},
   "source": [
    "## Rolling and Expanding Windows\n",
    "\n",
    "Rolling and expanding windows are techniques used to calculate statistics over a moving window of time. These are commonly used for calculating moving averages, rolling sums, or other time-based metrics.\n",
    "\n",
    "### Rolling Windows\n",
    "\n",
    "The `rolling()` function allows you to calculate metrics over a specified window size. Using our example dataframe"
   ]
  },
  {
   "cell_type": "code",
   "execution_count": 49,
   "id": "a91aa3c6-164f-497b-b49f-ebf40a904fee",
   "metadata": {},
   "outputs": [
    {
     "data": {
      "text/html": [
       "<div>\n",
       "<style scoped>\n",
       "    .dataframe tbody tr th:only-of-type {\n",
       "        vertical-align: middle;\n",
       "    }\n",
       "\n",
       "    .dataframe tbody tr th {\n",
       "        vertical-align: top;\n",
       "    }\n",
       "\n",
       "    .dataframe thead th {\n",
       "        text-align: right;\n",
       "    }\n",
       "</style>\n",
       "<table border=\"1\" class=\"dataframe\">\n",
       "  <thead>\n",
       "    <tr style=\"text-align: right;\">\n",
       "      <th></th>\n",
       "      <th>Date</th>\n",
       "      <th>SalesAmount</th>\n",
       "    </tr>\n",
       "  </thead>\n",
       "  <tbody>\n",
       "    <tr>\n",
       "      <th>0</th>\n",
       "      <td>2024-01-01</td>\n",
       "      <td>200</td>\n",
       "    </tr>\n",
       "    <tr>\n",
       "      <th>1</th>\n",
       "      <td>2024-01-02</td>\n",
       "      <td>150</td>\n",
       "    </tr>\n",
       "    <tr>\n",
       "      <th>2</th>\n",
       "      <td>2024-01-03</td>\n",
       "      <td>300</td>\n",
       "    </tr>\n",
       "  </tbody>\n",
       "</table>\n",
       "</div>"
      ],
      "text/plain": [
       "        Date  SalesAmount\n",
       "0 2024-01-01          200\n",
       "1 2024-01-02          150\n",
       "2 2024-01-03          300"
      ]
     },
     "execution_count": 49,
     "metadata": {},
     "output_type": "execute_result"
    }
   ],
   "source": [
    "df"
   ]
  },
  {
   "cell_type": "code",
   "execution_count": 51,
   "id": "a1c54509-111b-4a3d-83e0-02fc6fd2e047",
   "metadata": {},
   "outputs": [],
   "source": [
    "df['3-day mean'] = df['SalesAmount'].rolling(window=3).mean()"
   ]
  },
  {
   "cell_type": "code",
   "execution_count": 52,
   "id": "3df22e44-0fb8-4a10-84dd-78cb6d6e28d4",
   "metadata": {},
   "outputs": [
    {
     "data": {
      "text/html": [
       "<div>\n",
       "<style scoped>\n",
       "    .dataframe tbody tr th:only-of-type {\n",
       "        vertical-align: middle;\n",
       "    }\n",
       "\n",
       "    .dataframe tbody tr th {\n",
       "        vertical-align: top;\n",
       "    }\n",
       "\n",
       "    .dataframe thead th {\n",
       "        text-align: right;\n",
       "    }\n",
       "</style>\n",
       "<table border=\"1\" class=\"dataframe\">\n",
       "  <thead>\n",
       "    <tr style=\"text-align: right;\">\n",
       "      <th></th>\n",
       "      <th>Date</th>\n",
       "      <th>SalesAmount</th>\n",
       "      <th>3-day mean</th>\n",
       "    </tr>\n",
       "  </thead>\n",
       "  <tbody>\n",
       "    <tr>\n",
       "      <th>0</th>\n",
       "      <td>2024-01-01</td>\n",
       "      <td>200</td>\n",
       "      <td>NaN</td>\n",
       "    </tr>\n",
       "    <tr>\n",
       "      <th>1</th>\n",
       "      <td>2024-01-02</td>\n",
       "      <td>150</td>\n",
       "      <td>NaN</td>\n",
       "    </tr>\n",
       "    <tr>\n",
       "      <th>2</th>\n",
       "      <td>2024-01-03</td>\n",
       "      <td>300</td>\n",
       "      <td>216.666667</td>\n",
       "    </tr>\n",
       "  </tbody>\n",
       "</table>\n",
       "</div>"
      ],
      "text/plain": [
       "        Date  SalesAmount  3-day mean\n",
       "0 2024-01-01          200         NaN\n",
       "1 2024-01-02          150         NaN\n",
       "2 2024-01-03          300  216.666667"
      ]
     },
     "execution_count": 52,
     "metadata": {},
     "output_type": "execute_result"
    }
   ],
   "source": [
    "df"
   ]
  },
  {
   "cell_type": "code",
   "execution_count": 54,
   "id": "9a72ce72-84d6-427e-b598-8801b7c543fc",
   "metadata": {},
   "outputs": [],
   "source": [
    "df['expanding sum'] = df['SalesAmount'].expanding().sum()"
   ]
  },
  {
   "cell_type": "code",
   "execution_count": 55,
   "id": "9316f03d-3462-4932-a425-150146bdfaa1",
   "metadata": {},
   "outputs": [
    {
     "data": {
      "text/html": [
       "<div>\n",
       "<style scoped>\n",
       "    .dataframe tbody tr th:only-of-type {\n",
       "        vertical-align: middle;\n",
       "    }\n",
       "\n",
       "    .dataframe tbody tr th {\n",
       "        vertical-align: top;\n",
       "    }\n",
       "\n",
       "    .dataframe thead th {\n",
       "        text-align: right;\n",
       "    }\n",
       "</style>\n",
       "<table border=\"1\" class=\"dataframe\">\n",
       "  <thead>\n",
       "    <tr style=\"text-align: right;\">\n",
       "      <th></th>\n",
       "      <th>Date</th>\n",
       "      <th>SalesAmount</th>\n",
       "      <th>3-day mean</th>\n",
       "      <th>expanding sum</th>\n",
       "    </tr>\n",
       "  </thead>\n",
       "  <tbody>\n",
       "    <tr>\n",
       "      <th>0</th>\n",
       "      <td>2024-01-01</td>\n",
       "      <td>200</td>\n",
       "      <td>NaN</td>\n",
       "      <td>200.0</td>\n",
       "    </tr>\n",
       "    <tr>\n",
       "      <th>1</th>\n",
       "      <td>2024-01-02</td>\n",
       "      <td>150</td>\n",
       "      <td>NaN</td>\n",
       "      <td>350.0</td>\n",
       "    </tr>\n",
       "    <tr>\n",
       "      <th>2</th>\n",
       "      <td>2024-01-03</td>\n",
       "      <td>300</td>\n",
       "      <td>216.666667</td>\n",
       "      <td>650.0</td>\n",
       "    </tr>\n",
       "  </tbody>\n",
       "</table>\n",
       "</div>"
      ],
      "text/plain": [
       "        Date  SalesAmount  3-day mean  expanding sum\n",
       "0 2024-01-01          200         NaN          200.0\n",
       "1 2024-01-02          150         NaN          350.0\n",
       "2 2024-01-03          300  216.666667          650.0"
      ]
     },
     "execution_count": 55,
     "metadata": {},
     "output_type": "execute_result"
    }
   ],
   "source": [
    "df"
   ]
  },
  {
   "cell_type": "markdown",
   "id": "34fb798c-2ee6-43a4-a6fe-eb3661ec6146",
   "metadata": {},
   "source": [
    "## Time Shifts and Differences\n",
    "\n",
    "Time shifting refers to moving data points forward or backward along the time axis. It is useful in time series analysis for comparing data at different points in time, calculating lags, or generating features that capture changes over time. Pandas makes it easy to shift and compute differences between time periods using `shift()` and `diff()` functions.\n",
    "\n",
    "#### Shifting Data with shift()\n",
    "\n",
    "The shift() function allows you to move (shift) your data forward or backward by a specified number of periods. This is useful when calculating lag features or creating shifted versions of time series data for comparison."
   ]
  },
  {
   "cell_type": "code",
   "execution_count": 56,
   "id": "4e51cac7-d395-42e8-bf60-541986927362",
   "metadata": {},
   "outputs": [
    {
     "name": "stdout",
     "output_type": "stream",
     "text": [
      "            SalesAmount\n",
      "Date                   \n",
      "2024-01-01          200\n",
      "2024-01-02          250\n",
      "2024-01-03          300\n",
      "2024-01-04          350\n",
      "2024-01-05          400\n"
     ]
    }
   ],
   "source": [
    "data = {\n",
    "    'Date': pd.date_range(start='2024-01-01', periods=5, freq='D'),\n",
    "    'SalesAmount': [200, 250, 300, 350, 400]\n",
    "}\n",
    "\n",
    "df = pd.DataFrame(data)\n",
    "df.set_index('Date', inplace=True)\n",
    "print(df)\n"
   ]
  },
  {
   "cell_type": "code",
   "execution_count": 57,
   "id": "c8c8489d-6ab5-4363-ab16-7c7491e1495f",
   "metadata": {},
   "outputs": [
    {
     "name": "stdout",
     "output_type": "stream",
     "text": [
      "            SalesAmount  shifted_sales\n",
      "Date                                  \n",
      "2024-01-01          200            NaN\n",
      "2024-01-02          250          200.0\n",
      "2024-01-03          300          250.0\n",
      "2024-01-04          350          300.0\n",
      "2024-01-05          400          350.0\n"
     ]
    }
   ],
   "source": [
    "df['shifted_sales'] = df['SalesAmount'].shift(1) # shit(1) one means to move data forward by one\n",
    "print(df)"
   ]
  },
  {
   "cell_type": "markdown",
   "id": "2bd96ac2-4205-4e7e-9200-c1252674b47d",
   "metadata": {},
   "source": [
    "## Calculating Differences with diff()\n",
    "\n",
    "The `diff()` function calculates the difference between consecutive time periods. This is particularly useful for measuring how much a value changes from one time step to the next (e.g., sales growth, stock price changes)."
   ]
  },
  {
   "cell_type": "code",
   "execution_count": 58,
   "id": "5ebf84ae-3acb-49fd-9347-389b71a7bd3b",
   "metadata": {},
   "outputs": [
    {
     "name": "stdout",
     "output_type": "stream",
     "text": [
      "            SalesAmount  shifted_sales  sales_diff\n",
      "Date                                              \n",
      "2024-01-01          200            NaN         NaN\n",
      "2024-01-02          250          200.0        50.0\n",
      "2024-01-03          300          250.0        50.0\n",
      "2024-01-04          350          300.0        50.0\n",
      "2024-01-05          400          350.0        50.0\n"
     ]
    }
   ],
   "source": [
    "df['sales_diff'] = df['SalesAmount'].diff()\n",
    "print(df)"
   ]
  },
  {
   "cell_type": "markdown",
   "id": "098624fb-b094-4d51-b7b6-90f5a6212e80",
   "metadata": {},
   "source": [
    "## Applications of Shifting and Differences\n",
    "\n",
    "- Lag Features: You can use shift() to create lagged features that capture the value of a time series at previous time steps. For example, creating features like \"Sales lagged by 1 day\" can help in building models that predict future sales based on past sales.\n",
    "- Percentage Change: You can calculate the percentage change between periods using the `pct_change()` function, which is useful for measuring relative changes over time."
   ]
  },
  {
   "cell_type": "code",
   "execution_count": 59,
   "id": "3ba25f0e-e556-43de-b4a4-c570aa4e341e",
   "metadata": {},
   "outputs": [],
   "source": [
    "df['% change'] = df['SalesAmount'].pct_change() * 100"
   ]
  },
  {
   "cell_type": "code",
   "execution_count": 60,
   "id": "ddd15102-6d2d-4aa5-8670-ce66cd1c16e2",
   "metadata": {},
   "outputs": [
    {
     "data": {
      "text/html": [
       "<div>\n",
       "<style scoped>\n",
       "    .dataframe tbody tr th:only-of-type {\n",
       "        vertical-align: middle;\n",
       "    }\n",
       "\n",
       "    .dataframe tbody tr th {\n",
       "        vertical-align: top;\n",
       "    }\n",
       "\n",
       "    .dataframe thead th {\n",
       "        text-align: right;\n",
       "    }\n",
       "</style>\n",
       "<table border=\"1\" class=\"dataframe\">\n",
       "  <thead>\n",
       "    <tr style=\"text-align: right;\">\n",
       "      <th></th>\n",
       "      <th>SalesAmount</th>\n",
       "      <th>shifted_sales</th>\n",
       "      <th>sales_diff</th>\n",
       "      <th>% change</th>\n",
       "    </tr>\n",
       "    <tr>\n",
       "      <th>Date</th>\n",
       "      <th></th>\n",
       "      <th></th>\n",
       "      <th></th>\n",
       "      <th></th>\n",
       "    </tr>\n",
       "  </thead>\n",
       "  <tbody>\n",
       "    <tr>\n",
       "      <th>2024-01-01</th>\n",
       "      <td>200</td>\n",
       "      <td>NaN</td>\n",
       "      <td>NaN</td>\n",
       "      <td>NaN</td>\n",
       "    </tr>\n",
       "    <tr>\n",
       "      <th>2024-01-02</th>\n",
       "      <td>250</td>\n",
       "      <td>200.0</td>\n",
       "      <td>50.0</td>\n",
       "      <td>25.000000</td>\n",
       "    </tr>\n",
       "    <tr>\n",
       "      <th>2024-01-03</th>\n",
       "      <td>300</td>\n",
       "      <td>250.0</td>\n",
       "      <td>50.0</td>\n",
       "      <td>20.000000</td>\n",
       "    </tr>\n",
       "    <tr>\n",
       "      <th>2024-01-04</th>\n",
       "      <td>350</td>\n",
       "      <td>300.0</td>\n",
       "      <td>50.0</td>\n",
       "      <td>16.666667</td>\n",
       "    </tr>\n",
       "    <tr>\n",
       "      <th>2024-01-05</th>\n",
       "      <td>400</td>\n",
       "      <td>350.0</td>\n",
       "      <td>50.0</td>\n",
       "      <td>14.285714</td>\n",
       "    </tr>\n",
       "  </tbody>\n",
       "</table>\n",
       "</div>"
      ],
      "text/plain": [
       "            SalesAmount  shifted_sales  sales_diff   % change\n",
       "Date                                                         \n",
       "2024-01-01          200            NaN         NaN        NaN\n",
       "2024-01-02          250          200.0        50.0  25.000000\n",
       "2024-01-03          300          250.0        50.0  20.000000\n",
       "2024-01-04          350          300.0        50.0  16.666667\n",
       "2024-01-05          400          350.0        50.0  14.285714"
      ]
     },
     "execution_count": 60,
     "metadata": {},
     "output_type": "execute_result"
    }
   ],
   "source": [
    "df"
   ]
  },
  {
   "cell_type": "markdown",
   "id": "dd1a506e-103f-4b6d-a4a6-917e7623112b",
   "metadata": {},
   "source": [
    "This gives the percentage change in `SalesAmount` between consecutive periods.\n",
    "\n",
    "- Moving Averages: You can combine shifting with rolling functions to calculate moving averages, a key technique in smoothing out time series data and identifying trends."
   ]
  },
  {
   "cell_type": "code",
   "execution_count": null,
   "id": "92322ae3-0616-4789-94c1-c7b386af658c",
   "metadata": {},
   "outputs": [],
   "source": []
  },
  {
   "cell_type": "code",
   "execution_count": null,
   "id": "215a8cc8-f675-4210-aaa0-260e4013391b",
   "metadata": {},
   "outputs": [],
   "source": []
  },
  {
   "cell_type": "code",
   "execution_count": null,
   "id": "48a1337f-468d-4dcd-9f25-2e945f9d6593",
   "metadata": {},
   "outputs": [],
   "source": []
  },
  {
   "cell_type": "code",
   "execution_count": null,
   "id": "4d6f7176-9d5e-4428-9b90-3d5cf95eaf02",
   "metadata": {},
   "outputs": [],
   "source": []
  },
  {
   "cell_type": "code",
   "execution_count": null,
   "id": "3ee7fe35-d89a-45d8-8498-08b7da5d75b3",
   "metadata": {},
   "outputs": [],
   "source": []
  }
 ],
 "metadata": {
  "kernelspec": {
   "display_name": "Python 3 (ipykernel)",
   "language": "python",
   "name": "python3"
  },
  "language_info": {
   "codemirror_mode": {
    "name": "ipython",
    "version": 3
   },
   "file_extension": ".py",
   "mimetype": "text/x-python",
   "name": "python",
   "nbconvert_exporter": "python",
   "pygments_lexer": "ipython3",
   "version": "3.8.10"
  }
 },
 "nbformat": 4,
 "nbformat_minor": 5
}
