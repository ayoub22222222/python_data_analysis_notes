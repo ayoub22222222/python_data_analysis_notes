{
 "cells": [
  {
   "cell_type": "markdown",
   "id": "8de86136-0adc-4f49-a722-dc1e7cc74511",
   "metadata": {},
   "source": [
    "## Time Series Data\n",
    "\n",
    "Time series data is common in many industries, including finance, healthcare, and manufacturing. Pandas provides powerful tools for working with time-indexed data, enabling you to manipulate, analyze, and visualize time-dependent patterns efficiently.\n",
    "\n",
    "In this module, we will cover:\n",
    "\n",
    "- Working with datetime objects,\n",
    "- Time-based indexing and slicing,\n",
    "- Resampling and aggregation,\n",
    "- Handling missing time data,\n",
    "- Rolling and expanding windows,\n",
    "- Time shifts and differences."
   ]
  },
  {
   "cell_type": "markdown",
   "id": "54ff82dd-9293-4cb5-b6e6-f3f70dcccb59",
   "metadata": {},
   "source": [
    "## What is a Time Series?\n",
    "\n",
    "A time series is a sequence of data points collected or recorded at successive points in time, often at uniform intervals (such as hourly, daily, monthly, or yearly). Unlike other types of data, time series data has a temporal aspect, meaning that time plays a key role in the analysis. The order of the data points matters, and analyzing how the data changes over time is often a central focus.\n",
    "\n",
    "# Key Characteristics of Time Series Data:\n",
    "#### Temporal Ordering: \n",
    "Time series data is ordered by time, and the sequence in which data points occur is crucial.\n",
    "Frequency: Time series data can be recorded at various intervals, such as:\n",
    "- Hourly: Sensor readings from a machine every hour.\n",
    "- Daily: Stock prices at the end of each trading day.\n",
    "- Monthly: Monthly sales data for a retail store.\n",
    "#### Trend and Seasonality: \n",
    "Time series data often exhibits trends (long-term upward or downward movements) and seasonality (recurring patterns over time).\n",
    "#### Examples of Time Series Data\n",
    "- Stock Market Prices: The closing price of a stock is recorded at the end of each trading day, forming a time series. You could analyze how the price fluctuates daily, weekly, or monthly.\n",
    "\n",
    "Date\tStock Price\n",
    "2024-01-01\t$150\n",
    "2024-01-02\t$152\n",
    "2024-01-03\t$148\n",
    "- Weather Data: Daily temperature readings form a time series. You can analyze temperature trends over days, months, or years.\n",
    "\n",
    "Date\tTemperature (°C)\n",
    "2024-01-01\t5.2\n",
    "2024-01-02\t4.8\n",
    "2024-01-03\t6.0\n",
    "- Sales Data: A retail store’s daily or monthly sales figures are time series data. You could look for trends over time (e.g., sales growing during holiday seasons or dipping during off-seasons).\n",
    "\n",
    "Month\tSales Amount\n",
    "2024-01\t$10,000\n",
    "2024-02\t$9,500\n",
    "2024-03\t$12,000\n",
    "- Website Traffic: A website’s hourly or daily visitors form a time series, allowing analysis of how traffic varies throughout the day or week.\n",
    "\n",
    "Hour\tVisitors\n",
    "09:00 AM\t200\n",
    "10:00 AM\t230\n",
    "11:00 AM\t250\n"
   ]
  },
  {
   "cell_type": "markdown",
   "id": "a57fbad6-e385-4cc4-9a54-ab0e59f4eb1f",
   "metadata": {},
   "source": [
    "## Why is Time Series Data Important?\n",
    "\n",
    "Time series data allows you to analyze patterns over time and make predictions about future values based on past behavior. It’s used in various domains to answer questions like:\n",
    "\n",
    "- `Trends`: Is there a long-term upward or downward trend in stock prices or sales?\n",
    "- `Seasonality`: Are there recurring patterns, such as higher sales during holiday seasons or lower website traffic on weekends?\n",
    "- `Forecasting`: Can we predict the future temperature, sales, or stock prices based on historical data?"
   ]
  },
  {
   "cell_type": "code",
   "execution_count": 2,
   "id": "3da20ef0-0feb-4ee2-be63-b8a20e994ead",
   "metadata": {},
   "outputs": [],
   "source": [
    "import pandas as pd "
   ]
  },
  {
   "cell_type": "code",
   "execution_count": null,
   "id": "6fbfb441-6da8-4264-8abe-e21a7221015a",
   "metadata": {},
   "outputs": [],
   "source": []
  },
  {
   "cell_type": "code",
   "execution_count": 3,
   "id": "299ac6d2-6da5-4de9-9697-39e47d29f325",
   "metadata": {},
   "outputs": [],
   "source": [
    "# Sample data with date strings\n",
    "data = {'Date': ['2024-01-01', '2024-01-02', '2024-01-03'], 'SalesAmount': [200, 150, 300]}\n",
    "df = pd.DataFrame(data)"
   ]
  },
  {
   "cell_type": "code",
   "execution_count": 5,
   "id": "3729d2d3-3654-400f-abc3-0bb53a0b4e54",
   "metadata": {},
   "outputs": [
    {
     "name": "stdout",
     "output_type": "stream",
     "text": [
      "datetime64[ns]\n"
     ]
    }
   ],
   "source": [
    "# convert date cumns into datetime \n",
    "\n",
    "df['Date'] = pd.to_datetime(df['Date'])\n",
    "print(df['Date'].dtypes)"
   ]
  },
  {
   "cell_type": "markdown",
   "id": "fe169ade-756a-4569-a323-a074ac7b421a",
   "metadata": {},
   "source": [
    "## Extracting Date Components"
   ]
  },
  {
   "cell_type": "code",
   "execution_count": 10,
   "id": "a4c2c25c-a6b4-43d8-8352-6de8471135d0",
   "metadata": {},
   "outputs": [
    {
     "data": {
      "text/html": [
       "<div>\n",
       "<style scoped>\n",
       "    .dataframe tbody tr th:only-of-type {\n",
       "        vertical-align: middle;\n",
       "    }\n",
       "\n",
       "    .dataframe tbody tr th {\n",
       "        vertical-align: top;\n",
       "    }\n",
       "\n",
       "    .dataframe thead th {\n",
       "        text-align: right;\n",
       "    }\n",
       "</style>\n",
       "<table border=\"1\" class=\"dataframe\">\n",
       "  <thead>\n",
       "    <tr style=\"text-align: right;\">\n",
       "      <th></th>\n",
       "      <th>Date</th>\n",
       "      <th>SalesAmount</th>\n",
       "      <th>Year</th>\n",
       "      <th>Month</th>\n",
       "      <th>Day</th>\n",
       "    </tr>\n",
       "  </thead>\n",
       "  <tbody>\n",
       "    <tr>\n",
       "      <th>0</th>\n",
       "      <td>2024-01-01</td>\n",
       "      <td>200</td>\n",
       "      <td>2024</td>\n",
       "      <td>1</td>\n",
       "      <td>1</td>\n",
       "    </tr>\n",
       "    <tr>\n",
       "      <th>1</th>\n",
       "      <td>2024-01-02</td>\n",
       "      <td>150</td>\n",
       "      <td>2024</td>\n",
       "      <td>1</td>\n",
       "      <td>2</td>\n",
       "    </tr>\n",
       "    <tr>\n",
       "      <th>2</th>\n",
       "      <td>2024-01-03</td>\n",
       "      <td>300</td>\n",
       "      <td>2024</td>\n",
       "      <td>1</td>\n",
       "      <td>3</td>\n",
       "    </tr>\n",
       "  </tbody>\n",
       "</table>\n",
       "</div>"
      ],
      "text/plain": [
       "        Date  SalesAmount  Year  Month  Day\n",
       "0 2024-01-01          200  2024      1    1\n",
       "1 2024-01-02          150  2024      1    2\n",
       "2 2024-01-03          300  2024      1    3"
      ]
     },
     "execution_count": 10,
     "metadata": {},
     "output_type": "execute_result"
    }
   ],
   "source": [
    "df"
   ]
  },
  {
   "cell_type": "code",
   "execution_count": 7,
   "id": "7e023788-9560-4624-991c-02eea77e0e2b",
   "metadata": {},
   "outputs": [
    {
     "name": "stdout",
     "output_type": "stream",
     "text": [
      "        Date  SalesAmount  Year  Month  Day\n",
      "0 2024-01-01          200  2024      1    1\n",
      "1 2024-01-02          150  2024      1    2\n",
      "2 2024-01-03          300  2024      1    3\n"
     ]
    }
   ],
   "source": [
    "df['Year'] = df['Date'].dt.year\n",
    "df['Month'] = df['Date'].dt.month\n",
    "df['Day'] = df['Date'].dt.day\n",
    "print(df)"
   ]
  },
  {
   "cell_type": "code",
   "execution_count": 9,
   "id": "aeb832f0-e564-478b-8230-98e5a92f5a71",
   "metadata": {},
   "outputs": [
    {
     "name": "stdout",
     "output_type": "stream",
     "text": [
      "<class 'pandas.core.frame.DataFrame'>\n",
      "RangeIndex: 3 entries, 0 to 2\n",
      "Data columns (total 5 columns):\n",
      " #   Column       Non-Null Count  Dtype         \n",
      "---  ------       --------------  -----         \n",
      " 0   Date         3 non-null      datetime64[ns]\n",
      " 1   SalesAmount  3 non-null      int64         \n",
      " 2   Year         3 non-null      int32         \n",
      " 3   Month        3 non-null      int32         \n",
      " 4   Day          3 non-null      int32         \n",
      "dtypes: datetime64[ns](1), int32(3), int64(1)\n",
      "memory usage: 212.0 bytes\n"
     ]
    }
   ],
   "source": [
    "df.info()"
   ]
  },
  {
   "cell_type": "code",
   "execution_count": 14,
   "id": "3299e5f6-a9e9-45c7-8346-674c45d705e6",
   "metadata": {},
   "outputs": [
    {
     "name": "stdout",
     "output_type": "stream",
     "text": [
      "<class 'pandas.core.series.Series'>\n"
     ]
    }
   ],
   "source": [
    "print(type(df['Date'].dt.year))"
   ]
  }
 ],
 "metadata": {
  "kernelspec": {
   "display_name": "Python 3 (ipykernel)",
   "language": "python",
   "name": "python3"
  },
  "language_info": {
   "codemirror_mode": {
    "name": "ipython",
    "version": 3
   },
   "file_extension": ".py",
   "mimetype": "text/x-python",
   "name": "python",
   "nbconvert_exporter": "python",
   "pygments_lexer": "ipython3",
   "version": "3.8.10"
  }
 },
 "nbformat": 4,
 "nbformat_minor": 5
}
