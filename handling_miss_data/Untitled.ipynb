{
 "cells": [
  {
   "cell_type": "code",
   "execution_count": 1,
   "id": "e66e2014-29cb-4931-85cc-a9896c89b645",
   "metadata": {},
   "outputs": [],
   "source": [
    "import pandas as pd \n",
    "import numpy as np\n",
    "import matplotlib.pyplot as plt\n",
    "import seaborn as sns"
   ]
  },
  {
   "cell_type": "markdown",
   "id": "21e1dab9-da95-45ea-a011-f346035a1827",
   "metadata": {},
   "source": [
    "## Identifying Missing Data\n",
    "\n",
    "Pandas uses the special placeholder NaN (Not a Number) to represent missing values. Detecting where these missing values exist is the first step before deciding how to handle them.\n",
    "\n",
    "Pandas provides two primary functions to check for missing data:\n",
    "\n",
    "isnull(): Returns True for every missing value (NaN) and False otherwise.\n",
    "notnull(): Returns True for non-missing values and False for missing ones.\n"
   ]
  },
  {
   "cell_type": "code",
   "execution_count": 2,
   "id": "20b9f236-0291-4af4-8e1d-29c14add2353",
   "metadata": {},
   "outputs": [],
   "source": [
    "# Sample DataFrame with missing values\n",
    "data = {\n",
    "    \"ProductID\": [101, 102, 103, 104],\n",
    "    \"SalesAmount\": [200, None, 400, 300],\n",
    "    \"Region\": [\"North\", \"South\", None, \"East\"]\n",
    "}"
   ]
  },
  {
   "cell_type": "code",
   "execution_count": 3,
   "id": "ff6a82b4-b7da-4dcf-a32f-632e32729220",
   "metadata": {},
   "outputs": [],
   "source": [
    "# Check for missing values\n",
    "df = pd.DataFrame(data)"
   ]
  },
  {
   "cell_type": "code",
   "execution_count": 4,
   "id": "2a15ab0e-a2d1-42ef-b5c8-ba57239daf7a",
   "metadata": {},
   "outputs": [
    {
     "name": "stdout",
     "output_type": "stream",
     "text": [
      "   ProductID  SalesAmount  Region\n",
      "0      False        False   False\n",
      "1      False         True   False\n",
      "2      False        False    True\n",
      "3      False        False   False\n"
     ]
    }
   ],
   "source": [
    "print(df.isnull())"
   ]
  },
  {
   "cell_type": "code",
   "execution_count": 5,
   "id": "b6b54c4b-fa77-461e-9d41-0aeb02d03c6b",
   "metadata": {},
   "outputs": [
    {
     "name": "stdout",
     "output_type": "stream",
     "text": [
      "ProductID      0\n",
      "SalesAmount    1\n",
      "Region         1\n",
      "dtype: int64\n"
     ]
    }
   ],
   "source": [
    "# Summarize missing values by column\n",
    "print(df.isnull().sum())"
   ]
  },
  {
   "cell_type": "markdown",
   "id": "ea335038-8094-4efb-9b30-073f19822d64",
   "metadata": {},
   "source": [
    "## Removing missing Data \n",
    "    In some cases, it might be necessary to remove rows or columns with missing     values, especially when the proportion of missing data is small. Pandas provides the dropna() function for this purpose."
   ]
  },
  {
   "cell_type": "code",
   "execution_count": 6,
   "id": "4b34b1c6-bafa-421a-8d41-adf97ec37eeb",
   "metadata": {},
   "outputs": [
    {
     "name": "stdout",
     "output_type": "stream",
     "text": [
      "   ProductID  SalesAmount Region\n",
      "0        101        200.0  North\n",
      "3        104        300.0   East\n"
     ]
    }
   ],
   "source": [
    "# This removes any row that contains at least one missing value.\n",
    "df_cleaned_rows = df.dropna()\n",
    "print(df_cleaned_rows)"
   ]
  },
  {
   "cell_type": "markdown",
   "id": "4b333fe6-cca9-4d64-9d8e-97f5393e462b",
   "metadata": {},
   "source": [
    "## Removing Columns with Missing Values\n",
    "If a column has too many missing values, it may be better to drop the entire column."
   ]
  },
  {
   "cell_type": "code",
   "execution_count": 7,
   "id": "f9409741-49f3-42f1-8690-358d2e4a3ccb",
   "metadata": {},
   "outputs": [
    {
     "name": "stdout",
     "output_type": "stream",
     "text": [
      "   ProductID\n",
      "0        101\n",
      "1        102\n",
      "2        103\n",
      "3        104\n"
     ]
    }
   ],
   "source": [
    "# Remove columns with any missing values\n",
    "df_cleaned_columns = df.dropna(axis=1)\n",
    "print(df_cleaned_columns)"
   ]
  },
  {
   "cell_type": "code",
   "execution_count": 8,
   "id": "8a7536ef-0fe8-43e2-a5e0-d472c77148b5",
   "metadata": {},
   "outputs": [
    {
     "name": "stdout",
     "output_type": "stream",
     "text": [
      "   ProductID  SalesAmount Region\n",
      "0        101        200.0  North\n",
      "1        102          NaN  South\n",
      "2        103        400.0   None\n",
      "3        104        300.0   East\n"
     ]
    }
   ],
   "source": [
    "# Keep rows with at least 2 non-NaN values\n",
    "df_thresh = df.dropna(thresh=2)\n",
    "print(df_thresh)"
   ]
  },
  {
   "cell_type": "markdown",
   "id": "d67d1f1f-9c65-4988-9dda-de8f3d4b7366",
   "metadata": {},
   "source": [
    "## Imputing Missing Data\n",
    "Imputation refers to replacing missing values with meaningful substitutes, such as the mean, median, or a fixed value. This technique is useful when dropping rows or columns would result in the loss of too much data.\n",
    "\n",
    "### Using fillna() to Impute Data\n",
    "\n",
    "The `fillna()` function allows you to replace missing values with a specific value or method."
   ]
  },
  {
   "cell_type": "code",
   "execution_count": 9,
   "id": "d12e0f85-cd17-4c5d-9870-998028f8d540",
   "metadata": {},
   "outputs": [],
   "source": [
    "# fill the missing value with mean f columns\n",
    "mean_sales = df['SalesAmount'].mean()\n",
    "df_filled = df['SalesAmount'].fillna(mean_sales)"
   ]
  },
  {
   "cell_type": "code",
   "execution_count": 10,
   "id": "971f8ec9-c701-459a-8da7-2bbc22e1de7a",
   "metadata": {},
   "outputs": [
    {
     "name": "stdout",
     "output_type": "stream",
     "text": [
      "0    200.0\n",
      "1    300.0\n",
      "2    400.0\n",
      "3    300.0\n",
      "Name: SalesAmount, dtype: float64\n"
     ]
    }
   ],
   "source": [
    "print(df_filled)"
   ]
  },
  {
   "cell_type": "markdown",
   "id": "a6c7e164-2e67-4293-8cab-2483b1f6d4e4",
   "metadata": {},
   "source": [
    "## Filling Missing Data with a Fixed Value\n",
    "You can replace missing values with a fixed value (e.g., 0 or 'Unknown').\n"
   ]
  },
  {
   "cell_type": "code",
   "execution_count": 11,
   "id": "5776c4e9-1686-42ee-a9b7-1773a7179d00",
   "metadata": {},
   "outputs": [
    {
     "name": "stdout",
     "output_type": "stream",
     "text": [
      "   ProductID  SalesAmount  Region\n",
      "0        101        200.0   North\n",
      "1        102          NaN   South\n",
      "2        103        400.0  Unkown\n",
      "3        104        300.0    East\n"
     ]
    }
   ],
   "source": [
    "df['Region'] = df['Region'].fillna('Unkown')\n",
    "print(df)"
   ]
  },
  {
   "cell_type": "markdown",
   "id": "08263026-e75f-4948-8df3-e61d3bd26824",
   "metadata": {},
   "source": [
    "## Using Different Fill Values for Different Columns\n",
    "You can pass a dictionary to fillna() to use different values for different columns."
   ]
  },
  {
   "cell_type": "code",
   "execution_count": 12,
   "id": "c555927b-4c37-40c1-886b-73cb61a1191f",
   "metadata": {},
   "outputs": [],
   "source": [
    "df_new_feild = df.fillna({'Salesamount': df['SalesAmount'].mean(),\n",
    "                           'Region': 'Uknown'\n",
    "                         })"
   ]
  },
  {
   "cell_type": "code",
   "execution_count": 13,
   "id": "368de421-31ca-48ea-9c3e-6ffd186066c6",
   "metadata": {},
   "outputs": [
    {
     "name": "stdout",
     "output_type": "stream",
     "text": [
      "   ProductID  SalesAmount  Region\n",
      "0        101        200.0   North\n",
      "1        102          NaN   South\n",
      "2        103        400.0  Unkown\n",
      "3        104        300.0    East\n"
     ]
    }
   ],
   "source": [
    "print(df_new_feild)"
   ]
  },
  {
   "cell_type": "markdown",
   "id": "67803bfa-8417-4d24-8e60-c6a719bfd622",
   "metadata": {},
   "source": [
    "##  Forward fill missing values\n",
    "Forward and backward filling is especially useful for time series data where missing values can be replaced with the last known value (forward fill) or the next known value (backward fill).\n",
    "\n",
    "Forward Fill `(ffill)`\n",
    "\n",
    "Forward fill propagates the last valid observation forward to the next missing value.\n",
    "\n",
    "`Backward Fill (bfill)`\n",
    "\n",
    "Backward fill propagates the next valid observation backward to the previous missing value."
   ]
  },
  {
   "cell_type": "code",
   "execution_count": 14,
   "id": "cc98e497-6a75-4263-935f-9752cacb0c39",
   "metadata": {},
   "outputs": [
    {
     "name": "stdout",
     "output_type": "stream",
     "text": [
      "   ProductID  SalesAmount  Region\n",
      "0        101        200.0   North\n",
      "1        102        200.0   South\n",
      "2        103        400.0  Unkown\n",
      "3        104        300.0    East\n"
     ]
    }
   ],
   "source": [
    "df_forward_fill = df.fillna(method='ffill')\n",
    "print(df_forward_fill)"
   ]
  },
  {
   "cell_type": "code",
   "execution_count": 15,
   "id": "f18f7f16-3868-495c-9110-57fd85b57434",
   "metadata": {},
   "outputs": [
    {
     "name": "stdout",
     "output_type": "stream",
     "text": [
      "   ProductID  SalesAmount  Region\n",
      "0        101        200.0   North\n",
      "1        102        400.0   South\n",
      "2        103        400.0  Unkown\n",
      "3        104        300.0    East\n"
     ]
    }
   ],
   "source": [
    "df_backward_fill = df.fillna(method='bfill')\n",
    "print(df_backward_fill)"
   ]
  },
  {
   "cell_type": "markdown",
   "id": "b332f037-a922-46dc-a8f2-b52cb534d721",
   "metadata": {},
   "source": [
    "## Advanced Imputation Techniques: Interpolation\n",
    "\n",
    "Interpolation is a method of estimating missing values by using the known values in the dataset. Pandas provides the `interpolate()` method, which can be useful for numerical data, especially in time series."
   ]
  },
  {
   "cell_type": "code",
   "execution_count": 16,
   "id": "13abfec8-33ad-42f4-a8c3-71f3021256e0",
   "metadata": {},
   "outputs": [
    {
     "data": {
      "text/html": [
       "<div>\n",
       "<style scoped>\n",
       "    .dataframe tbody tr th:only-of-type {\n",
       "        vertical-align: middle;\n",
       "    }\n",
       "\n",
       "    .dataframe tbody tr th {\n",
       "        vertical-align: top;\n",
       "    }\n",
       "\n",
       "    .dataframe thead th {\n",
       "        text-align: right;\n",
       "    }\n",
       "</style>\n",
       "<table border=\"1\" class=\"dataframe\">\n",
       "  <thead>\n",
       "    <tr style=\"text-align: right;\">\n",
       "      <th></th>\n",
       "      <th>SalesAmount</th>\n",
       "    </tr>\n",
       "  </thead>\n",
       "  <tbody>\n",
       "    <tr>\n",
       "      <th>0</th>\n",
       "      <td>200.0</td>\n",
       "    </tr>\n",
       "    <tr>\n",
       "      <th>1</th>\n",
       "      <td>300.0</td>\n",
       "    </tr>\n",
       "    <tr>\n",
       "      <th>2</th>\n",
       "      <td>400.0</td>\n",
       "    </tr>\n",
       "    <tr>\n",
       "      <th>3</th>\n",
       "      <td>300.0</td>\n",
       "    </tr>\n",
       "  </tbody>\n",
       "</table>\n",
       "</div>"
      ],
      "text/plain": [
       "   SalesAmount\n",
       "0        200.0\n",
       "1        300.0\n",
       "2        400.0\n",
       "3        300.0"
      ]
     },
     "execution_count": 16,
     "metadata": {},
     "output_type": "execute_result"
    }
   ],
   "source": [
    "df[['SalesAmount']].interpolate()"
   ]
  },
  {
   "cell_type": "markdown",
   "id": "c1a6b620-6ed1-4669-b184-3e0ae73d1a07",
   "metadata": {},
   "source": [
    "In this example, the missing value in SalesAmount is interpolated based on the existing values in the column. This method works well when the data follows a specific trend or pattern."
   ]
  },
  {
   "cell_type": "markdown",
   "id": "9322e6d5-4dca-4e69-bbc0-229f9d48ac30",
   "metadata": {},
   "source": [
    "## Different Methods for Interpolation\n",
    "Pandas supports various interpolation methods, such as linear (default), polynomial, and spline. You can specify the method that best fits your data.\n"
   ]
  },
  {
   "cell_type": "code",
   "execution_count": 17,
   "id": "06d021eb-457d-4c8a-a04e-2ee20209e149",
   "metadata": {},
   "outputs": [
    {
     "name": "stdout",
     "output_type": "stream",
     "text": [
      "0    200.000000\n",
      "1    366.666667\n",
      "2    400.000000\n",
      "3    300.000000\n",
      "Name: SalesAmount, dtype: float64\n"
     ]
    }
   ],
   "source": [
    "# Polynomial interpolation (degree 2)\n",
    "df_interpolated_poly = df['SalesAmount'].interpolate(method='polynomial', order=2)\n",
    "print(df_interpolated_poly)"
   ]
  },
  {
   "cell_type": "code",
   "execution_count": null,
   "id": "38b72548-5bb2-4bb1-8f82-b4b7fe2fe54b",
   "metadata": {},
   "outputs": [],
   "source": []
  },
  {
   "cell_type": "code",
   "execution_count": null,
   "id": "87ba2cdf-a976-43e0-9d09-08b1436a3482",
   "metadata": {},
   "outputs": [],
   "source": []
  }
 ],
 "metadata": {
  "kernelspec": {
   "display_name": "Python 3 (ipykernel)",
   "language": "python",
   "name": "python3"
  },
  "language_info": {
   "codemirror_mode": {
    "name": "ipython",
    "version": 3
   },
   "file_extension": ".py",
   "mimetype": "text/x-python",
   "name": "python",
   "nbconvert_exporter": "python",
   "pygments_lexer": "ipython3",
   "version": "3.8.10"
  }
 },
 "nbformat": 4,
 "nbformat_minor": 5
}
